{
  "nbformat": 4,
  "nbformat_minor": 0,
  "metadata": {
    "colab": {
      "name": "ikNN.ipynb",
      "version": "0.3.2",
      "provenance": [],
      "collapsed_sections": []
    },
    "kernelspec": {
      "name": "python3",
      "display_name": "Python 3"
    }
  },
  "cells": [
    {
      "cell_type": "markdown",
      "metadata": {
        "id": "nvLaUNwKycQF",
        "colab_type": "text"
      },
      "source": [
        "# Item-based kNN (iknn)\n",
        "\n",
        "The iknn method as used in [Hidasi et al. 2016a] only considers\n",
        "the last element in a given session and then returns those items as recommendations that are most\n",
        "similar to it in terms of their co-occurrence in other sessions. Technically, each item is encoded\n",
        "as a binary vector, where each element corresponds to a session and is set to “1” in case the\n",
        "item appeared in the session. The similarity of two items can then be determined, e.g., using the\n",
        "cosine similarity measure, and the number of neighbours k is implicitly defined by the desired\n",
        "recommendation list length. Conceptually, the method implements a certain form of a “Customers who bought . . . also bought” scheme."
      ]
    },
    {
      "cell_type": "code",
      "metadata": {
        "id": "7ioZhpjapo1q",
        "colab_type": "code",
        "colab": {}
      },
      "source": [
        "import pandas as pd\n",
        "from scipy.sparse import csr_matrix\n",
        "from sklearn.metrics.pairwise import cosine_similarity\n",
        "import numpy as np\n",
        "import operator"
      ],
      "execution_count": 0,
      "outputs": []
    },
    {
      "cell_type": "code",
      "metadata": {
        "id": "vpo6wv2Hp559",
        "colab_type": "code",
        "colab": {}
      },
      "source": [
        "events_df = pd.read_csv('events.csv')"
      ],
      "execution_count": 0,
      "outputs": []
    },
    {
      "cell_type": "code",
      "metadata": {
        "id": "A6lGdqlQp9WF",
        "colab_type": "code",
        "colab": {
          "base_uri": "https://localhost:8080/",
          "height": 204
        },
        "outputId": "ca4494ea-32f4-457e-89cd-922b97b1d952"
      },
      "source": [
        "events_df.head()"
      ],
      "execution_count": 3,
      "outputs": [
        {
          "output_type": "execute_result",
          "data": {
            "text/html": [
              "<div>\n",
              "<style scoped>\n",
              "    .dataframe tbody tr th:only-of-type {\n",
              "        vertical-align: middle;\n",
              "    }\n",
              "\n",
              "    .dataframe tbody tr th {\n",
              "        vertical-align: top;\n",
              "    }\n",
              "\n",
              "    .dataframe thead th {\n",
              "        text-align: right;\n",
              "    }\n",
              "</style>\n",
              "<table border=\"1\" class=\"dataframe\">\n",
              "  <thead>\n",
              "    <tr style=\"text-align: right;\">\n",
              "      <th></th>\n",
              "      <th>timestamp</th>\n",
              "      <th>visitorid</th>\n",
              "      <th>event</th>\n",
              "      <th>itemid</th>\n",
              "      <th>transactionid</th>\n",
              "    </tr>\n",
              "  </thead>\n",
              "  <tbody>\n",
              "    <tr>\n",
              "      <th>0</th>\n",
              "      <td>1433221332117</td>\n",
              "      <td>257597</td>\n",
              "      <td>view</td>\n",
              "      <td>355908</td>\n",
              "      <td>NaN</td>\n",
              "    </tr>\n",
              "    <tr>\n",
              "      <th>1</th>\n",
              "      <td>1433224214164</td>\n",
              "      <td>992329</td>\n",
              "      <td>view</td>\n",
              "      <td>248676</td>\n",
              "      <td>NaN</td>\n",
              "    </tr>\n",
              "    <tr>\n",
              "      <th>2</th>\n",
              "      <td>1433221999827</td>\n",
              "      <td>111016</td>\n",
              "      <td>view</td>\n",
              "      <td>318965</td>\n",
              "      <td>NaN</td>\n",
              "    </tr>\n",
              "    <tr>\n",
              "      <th>3</th>\n",
              "      <td>1433221955914</td>\n",
              "      <td>483717</td>\n",
              "      <td>view</td>\n",
              "      <td>253185</td>\n",
              "      <td>NaN</td>\n",
              "    </tr>\n",
              "    <tr>\n",
              "      <th>4</th>\n",
              "      <td>1433221337106</td>\n",
              "      <td>951259</td>\n",
              "      <td>view</td>\n",
              "      <td>367447</td>\n",
              "      <td>NaN</td>\n",
              "    </tr>\n",
              "  </tbody>\n",
              "</table>\n",
              "</div>"
            ],
            "text/plain": [
              "       timestamp  visitorid event  itemid  transactionid\n",
              "0  1433221332117     257597  view  355908            NaN\n",
              "1  1433224214164     992329  view  248676            NaN\n",
              "2  1433221999827     111016  view  318965            NaN\n",
              "3  1433221955914     483717  view  253185            NaN\n",
              "4  1433221337106     951259  view  367447            NaN"
            ]
          },
          "metadata": {
            "tags": []
          },
          "execution_count": 3
        }
      ]
    },
    {
      "cell_type": "code",
      "metadata": {
        "id": "5Rw0F5P7qN3z",
        "colab_type": "code",
        "colab": {}
      },
      "source": [
        "events_df['item_id'] = events_df['itemid'].astype('category').cat.codes\n",
        "item_lookup = events_df[['item_id','itemid']].drop_duplicates()"
      ],
      "execution_count": 0,
      "outputs": []
    },
    {
      "cell_type": "code",
      "metadata": {
        "id": "fkOOabNvqSGt",
        "colab_type": "code",
        "colab": {}
      },
      "source": [
        "events_df.drop(['itemid'],axis=1,inplace=True)"
      ],
      "execution_count": 0,
      "outputs": []
    },
    {
      "cell_type": "code",
      "metadata": {
        "id": "zrrFgFQCqUPP",
        "colab_type": "code",
        "colab": {}
      },
      "source": [
        "events_df['visitor_id'] = events_df['visitorid'].astype('category').cat.codes\n",
        "visitor_lookup = events_df[['visitor_id','visitorid']].drop_duplicates()"
      ],
      "execution_count": 0,
      "outputs": []
    },
    {
      "cell_type": "code",
      "metadata": {
        "id": "UioOU8TbqVx0",
        "colab_type": "code",
        "colab": {}
      },
      "source": [
        "events_df.drop(['visitorid'],axis=1,inplace=True)"
      ],
      "execution_count": 0,
      "outputs": []
    },
    {
      "cell_type": "markdown",
      "metadata": {
        "id": "atMpFtQ5qcMI",
        "colab_type": "text"
      },
      "source": [
        "Here, we consider each unique visitorid as a sessionid i.e.  an entire journey of a user is considered a session"
      ]
    },
    {
      "cell_type": "code",
      "metadata": {
        "id": "Owuh-cuqqXfG",
        "colab_type": "code",
        "colab": {}
      },
      "source": [
        "item = []\n",
        "session = []\n",
        "data = []\n",
        "for row in events_df.itertuples():\n",
        "  item.append(row.item_id)\n",
        "  session.append(row.visitor_id)\n",
        "  data.append(1)"
      ],
      "execution_count": 0,
      "outputs": []
    },
    {
      "cell_type": "code",
      "metadata": {
        "id": "bqHcVGXWrCvL",
        "colab_type": "code",
        "colab": {}
      },
      "source": [
        "row = len(events_df.item_id.unique().tolist())\n",
        "col = len(events_df.visitor_id.unique().tolist())"
      ],
      "execution_count": 0,
      "outputs": []
    },
    {
      "cell_type": "code",
      "metadata": {
        "id": "nBwxIuU4rQWl",
        "colab_type": "code",
        "colab": {}
      },
      "source": [
        "data_csr = csr_matrix((data,(item,session)), shape = (row,col))"
      ],
      "execution_count": 0,
      "outputs": []
    },
    {
      "cell_type": "code",
      "metadata": {
        "id": "gscj3dWitLWc",
        "colab_type": "code",
        "colab": {}
      },
      "source": [
        "sim = cosine_similarity(data_csr,dense_output=False)"
      ],
      "execution_count": 0,
      "outputs": []
    },
    {
      "cell_type": "code",
      "metadata": {
        "id": "npXOy85rryHZ",
        "colab_type": "code",
        "colab": {}
      },
      "source": [
        "def getrecommendation(sessionid):\n",
        "  item = events_df[events_df.visitor_id == sessionid].sort_values('timestamp').item_id.tolist()\n",
        "  last_item_interacted = item[-1]\n",
        "  sim_item = sim[last_item_interacted]\n",
        "  sim_array = sim_item.toarray()\n",
        "  r,c = np.nonzero(sim_array)\n",
        "  sim_score = {}\n",
        "  for col in c:\n",
        "    sim_score[col] = sim_array[0,col]\n",
        "  sorted_sim =  sorted(sim_score.items(), key=operator.itemgetter(1),reverse=True)\n",
        "  rng = 10 if len(sorted_sim)>10 else len(sorted_sim)\n",
        "  for i in range(1,rng):\n",
        "    print(\"Item : {0} with similarity {1}\".format(sorted_sim[i][0],sorted_sim[i][1]))"
      ],
      "execution_count": 0,
      "outputs": []
    },
    {
      "cell_type": "code",
      "metadata": {
        "id": "OAOhrL2Os6T3",
        "colab_type": "code",
        "colab": {
          "base_uri": "https://localhost:8080/",
          "height": 170
        },
        "outputId": "38d79e49-c1a4-452c-d517-35c40d04150e"
      },
      "source": [
        "getrecommendation(2)"
      ],
      "execution_count": 44,
      "outputs": [
        {
          "output_type": "stream",
          "text": [
            "Item : 172691 with similarity 0.1357781029751052\n",
            "Item : 108948 with similarity 0.11080184472247168\n",
            "Item : 39581 with similarity 0.09046995130062717\n",
            "Item : 141775 with similarity 0.082107082725596\n",
            "Item : 13405 with similarity 0.07495316889958614\n",
            "Item : 25256 with similarity 0.07495316889958614\n",
            "Item : 26368 with similarity 0.07495316889958614\n",
            "Item : 30909 with similarity 0.07495316889958614\n",
            "Item : 47341 with similarity 0.07495316889958614\n"
          ],
          "name": "stdout"
        }
      ]
    }
  ]
}