{
 "cells": [
  {
   "cell_type": "markdown",
   "metadata": {},
   "source": [
    "# kNN - Temporal Extension"
   ]
  },
  {
   "cell_type": "markdown",
   "metadata": {},
   "source": [
    "The knn method, when using cosine similarity as a distance measure, does not consider the temporal sequence of the events in a session. The proposed tkNN method uses the same scoring scheme as the kNN method. The only difference is that, given the current session \"s\", we consider item \"i\" as being recommendable only if it appears in the neighbor session 'n' directly after a certain item. In our implementation, that certain item is the last item of the current session 's'."
   ]
  },
  {
   "cell_type": "code",
   "execution_count": 1,
   "metadata": {},
   "outputs": [],
   "source": [
    "import pandas as pd\n",
    "import numpy as np\n",
    "import gc\n",
    "import dateutil.parser\n",
    "from scipy.sparse import csr_matrix\n",
    "import operator\n",
    "from sklearn.neighbors import NearestNeighbors\n",
    "from scipy.spatial.distance import correlation, cosine\n",
    "from sklearn.metrics.pairwise import cosine_similarity"
   ]
  },
  {
   "cell_type": "code",
   "execution_count": 2,
   "metadata": {},
   "outputs": [
    {
     "name": "stderr",
     "output_type": "stream",
     "text": [
      "C:\\Users\\Dell\\Anaconda3\\lib\\site-packages\\ipykernel_launcher.py:1: FutureWarning: read_table is deprecated, use read_csv instead, passing sep='\\t'.\n",
      "  \"\"\"Entry point for launching an IPython kernel.\n",
      "b'Skipping line 2120260: expected 6 fields, saw 8\\n'\n",
      "b'Skipping line 2446318: expected 6 fields, saw 8\\n'\n",
      "b'Skipping line 11141081: expected 6 fields, saw 8\\n'\n",
      "b'Skipping line 11152099: expected 6 fields, saw 12\\nSkipping line 11152402: expected 6 fields, saw 8\\n'\n",
      "b'Skipping line 11882087: expected 6 fields, saw 8\\n'\n",
      "b'Skipping line 12902539: expected 6 fields, saw 8\\nSkipping line 12935044: expected 6 fields, saw 8\\n'\n",
      "b'Skipping line 17589539: expected 6 fields, saw 8\\n'\n"
     ]
    }
   ],
   "source": [
    "df_hist = pd.read_table('userid-timestamp-artid-artname-traid-traname.tsv', error_bad_lines = False)"
   ]
  },
  {
   "cell_type": "code",
   "execution_count": 3,
   "metadata": {},
   "outputs": [],
   "source": [
    "df_hist.columns = ['userid', 'timestamp', 'artistid','artistname','trackid','trackname']"
   ]
  },
  {
   "cell_type": "code",
   "execution_count": 4,
   "metadata": {},
   "outputs": [
    {
     "name": "stderr",
     "output_type": "stream",
     "text": [
      "C:\\Users\\Dell\\Anaconda3\\lib\\site-packages\\ipykernel_launcher.py:1: FutureWarning: read_table is deprecated, use read_csv instead, passing sep='\\t'.\n",
      "  \"\"\"Entry point for launching an IPython kernel.\n"
     ]
    }
   ],
   "source": [
    "df_profile = pd.read_table('userid-profile.tsv')"
   ]
  },
  {
   "cell_type": "code",
   "execution_count": 5,
   "metadata": {},
   "outputs": [],
   "source": [
    "user_id = df_profile['#id'].tolist()[:200]\n",
    "\n",
    "df_hist = df_hist[df_hist['userid'].isin(user_id)]"
   ]
  },
  {
   "cell_type": "code",
   "execution_count": 6,
   "metadata": {},
   "outputs": [],
   "source": [
    "df_hist['timestamp'] = df_hist['timestamp'].apply(lambda x : dateutil.parser.parse(x))"
   ]
  },
  {
   "cell_type": "code",
   "execution_count": 7,
   "metadata": {},
   "outputs": [],
   "source": [
    "df_hist.sort_values(by=['userid','timestamp'], inplace=True)\n",
    "cond1 = df_hist.timestamp-df_hist.timestamp.shift(1) > pd.Timedelta(5, 'm')\n",
    "cond2 = df_hist.userid != df_hist.userid.shift(1)\n",
    "df_hist['sessionid'] = (cond1|cond2).cumsum()"
   ]
  },
  {
   "cell_type": "code",
   "execution_count": 8,
   "metadata": {},
   "outputs": [
    {
     "data": {
      "text/html": [
       "<div>\n",
       "<style scoped>\n",
       "    .dataframe tbody tr th:only-of-type {\n",
       "        vertical-align: middle;\n",
       "    }\n",
       "\n",
       "    .dataframe tbody tr th {\n",
       "        vertical-align: top;\n",
       "    }\n",
       "\n",
       "    .dataframe thead th {\n",
       "        text-align: right;\n",
       "    }\n",
       "</style>\n",
       "<table border=\"1\" class=\"dataframe\">\n",
       "  <thead>\n",
       "    <tr style=\"text-align: right;\">\n",
       "      <th></th>\n",
       "      <th>userid</th>\n",
       "      <th>timestamp</th>\n",
       "      <th>artistid</th>\n",
       "      <th>artistname</th>\n",
       "      <th>trackid</th>\n",
       "      <th>trackname</th>\n",
       "      <th>sessionid</th>\n",
       "    </tr>\n",
       "  </thead>\n",
       "  <tbody>\n",
       "    <tr>\n",
       "      <th>16683</th>\n",
       "      <td>user_000001</td>\n",
       "      <td>2006-08-13 13:59:20+00:00</td>\n",
       "      <td>09a114d9-7723-4e14-b524-379697f6d2b5</td>\n",
       "      <td>Plaid &amp; Bob Jaroc</td>\n",
       "      <td>c4633ab1-e715-477f-8685-afa5f2058e42</td>\n",
       "      <td>The Launching Of Big Face</td>\n",
       "      <td>1</td>\n",
       "    </tr>\n",
       "    <tr>\n",
       "      <th>16682</th>\n",
       "      <td>user_000001</td>\n",
       "      <td>2006-08-13 14:03:29+00:00</td>\n",
       "      <td>09a114d9-7723-4e14-b524-379697f6d2b5</td>\n",
       "      <td>Plaid &amp; Bob Jaroc</td>\n",
       "      <td>bc2765af-208c-44c5-b3b0-cf597a646660</td>\n",
       "      <td>Zn Zero</td>\n",
       "      <td>1</td>\n",
       "    </tr>\n",
       "    <tr>\n",
       "      <th>16681</th>\n",
       "      <td>user_000001</td>\n",
       "      <td>2006-08-13 14:10:43+00:00</td>\n",
       "      <td>09a114d9-7723-4e14-b524-379697f6d2b5</td>\n",
       "      <td>Plaid &amp; Bob Jaroc</td>\n",
       "      <td>aa9c5a80-5cbe-42aa-a966-eb3cfa37d832</td>\n",
       "      <td>The Return Of Super Barrio - End Credits</td>\n",
       "      <td>2</td>\n",
       "    </tr>\n",
       "    <tr>\n",
       "      <th>16680</th>\n",
       "      <td>user_000001</td>\n",
       "      <td>2006-08-13 14:17:40+00:00</td>\n",
       "      <td>67fb65b5-6589-47f0-9371-8a40eb268dfb</td>\n",
       "      <td>Tommy Guerrero</td>\n",
       "      <td>d9b1c1da-7e47-4f97-a135-77260f2f559d</td>\n",
       "      <td>Mission Flats</td>\n",
       "      <td>3</td>\n",
       "    </tr>\n",
       "    <tr>\n",
       "      <th>16679</th>\n",
       "      <td>user_000001</td>\n",
       "      <td>2006-08-13 14:19:06+00:00</td>\n",
       "      <td>1cfbc7d1-299c-46e6-ba4c-1facb84ba435</td>\n",
       "      <td>Artful Dodger</td>\n",
       "      <td>120bb01c-03e4-465f-94a0-dce5e9fac711</td>\n",
       "      <td>What You Gonna Do?</td>\n",
       "      <td>3</td>\n",
       "    </tr>\n",
       "  </tbody>\n",
       "</table>\n",
       "</div>"
      ],
      "text/plain": [
       "            userid                 timestamp  \\\n",
       "16683  user_000001 2006-08-13 13:59:20+00:00   \n",
       "16682  user_000001 2006-08-13 14:03:29+00:00   \n",
       "16681  user_000001 2006-08-13 14:10:43+00:00   \n",
       "16680  user_000001 2006-08-13 14:17:40+00:00   \n",
       "16679  user_000001 2006-08-13 14:19:06+00:00   \n",
       "\n",
       "                                   artistid         artistname  \\\n",
       "16683  09a114d9-7723-4e14-b524-379697f6d2b5  Plaid & Bob Jaroc   \n",
       "16682  09a114d9-7723-4e14-b524-379697f6d2b5  Plaid & Bob Jaroc   \n",
       "16681  09a114d9-7723-4e14-b524-379697f6d2b5  Plaid & Bob Jaroc   \n",
       "16680  67fb65b5-6589-47f0-9371-8a40eb268dfb     Tommy Guerrero   \n",
       "16679  1cfbc7d1-299c-46e6-ba4c-1facb84ba435      Artful Dodger   \n",
       "\n",
       "                                    trackid  \\\n",
       "16683  c4633ab1-e715-477f-8685-afa5f2058e42   \n",
       "16682  bc2765af-208c-44c5-b3b0-cf597a646660   \n",
       "16681  aa9c5a80-5cbe-42aa-a966-eb3cfa37d832   \n",
       "16680  d9b1c1da-7e47-4f97-a135-77260f2f559d   \n",
       "16679  120bb01c-03e4-465f-94a0-dce5e9fac711   \n",
       "\n",
       "                                      trackname  sessionid  \n",
       "16683                 The Launching Of Big Face          1  \n",
       "16682                                   Zn Zero          1  \n",
       "16681  The Return Of Super Barrio - End Credits          2  \n",
       "16680                             Mission Flats          3  \n",
       "16679                        What You Gonna Do?          3  "
      ]
     },
     "execution_count": 8,
     "metadata": {},
     "output_type": "execute_result"
    }
   ],
   "source": [
    "df_hist.head()"
   ]
  },
  {
   "cell_type": "markdown",
   "metadata": {},
   "source": [
    "Since we'll be looking at most similar sessions for making recommendations, let's drop userid from our database."
   ]
  },
  {
   "cell_type": "code",
   "execution_count": 9,
   "metadata": {},
   "outputs": [],
   "source": [
    "df_hist.drop(['userid'], axis=1, inplace=True)"
   ]
  },
  {
   "cell_type": "code",
   "execution_count": null,
   "metadata": {},
   "outputs": [],
   "source": [
    "# For our training we will use sessions with atleast two songs long.\n",
    "# session = df_hist['sessionid'].unique().tolist()\n",
    "# rem_session = []\n",
    "# for s in session:\n",
    "#     if df_hist[df_hist.sessionid == s].shape[0] <2:\n",
    "#         rem_session.append(s)"
   ]
  },
  {
   "cell_type": "code",
   "execution_count": null,
   "metadata": {},
   "outputs": [],
   "source": [
    "#df_hist = df_hist[~df_hist.sessionid.isin(rem_session)]"
   ]
  },
  {
   "cell_type": "code",
   "execution_count": 10,
   "metadata": {},
   "outputs": [
    {
     "data": {
      "text/plain": [
       "array([      1,       2,       3, ..., 1092446, 1092447, 1092448],\n",
       "      dtype=int64)"
      ]
     },
     "execution_count": 10,
     "metadata": {},
     "output_type": "execute_result"
    }
   ],
   "source": [
    "df_hist['sessionid'].unique()"
   ]
  },
  {
   "cell_type": "markdown",
   "metadata": {},
   "source": [
    "Let's map session id and tracks in our final dataset to values starting with zero and crete corresponding lookup tables."
   ]
  },
  {
   "cell_type": "code",
   "execution_count": null,
   "metadata": {},
   "outputs": [],
   "source": [
    "#df_hist['session_id'] = df_hist['sessionid'].astype('category').cat.codes\n",
    "#session_lookup = df_hist[['session_id','sessionid']].drop_duplicates()"
   ]
  },
  {
   "cell_type": "code",
   "execution_count": 11,
   "metadata": {},
   "outputs": [],
   "source": [
    "df_hist['track_id'] = df_hist['trackname'].astype(\"category\").cat.codes\n",
    "track_lookup = df_hist[['track_id', 'trackname','artistname']].drop_duplicates()"
   ]
  },
  {
   "cell_type": "code",
   "execution_count": 12,
   "metadata": {},
   "outputs": [
    {
     "data": {
      "text/plain": [
       "Index(['timestamp', 'artistid', 'artistname', 'trackid', 'trackname',\n",
       "       'sessionid', 'track_id'],\n",
       "      dtype='object')"
      ]
     },
     "execution_count": 12,
     "metadata": {},
     "output_type": "execute_result"
    }
   ],
   "source": [
    "df_hist.columns"
   ]
  },
  {
   "cell_type": "code",
   "execution_count": 13,
   "metadata": {},
   "outputs": [],
   "source": [
    "df_hist.drop(['timestamp','artistid','artistname','trackid','trackname'],axis=1,inplace=True)"
   ]
  },
  {
   "cell_type": "code",
   "execution_count": 20,
   "metadata": {},
   "outputs": [
    {
     "data": {
      "text/html": [
       "<div>\n",
       "<style scoped>\n",
       "    .dataframe tbody tr th:only-of-type {\n",
       "        vertical-align: middle;\n",
       "    }\n",
       "\n",
       "    .dataframe tbody tr th {\n",
       "        vertical-align: top;\n",
       "    }\n",
       "\n",
       "    .dataframe thead th {\n",
       "        text-align: right;\n",
       "    }\n",
       "</style>\n",
       "<table border=\"1\" class=\"dataframe\">\n",
       "  <thead>\n",
       "    <tr style=\"text-align: right;\">\n",
       "      <th></th>\n",
       "      <th>sessionid</th>\n",
       "      <th>track_id</th>\n",
       "    </tr>\n",
       "  </thead>\n",
       "  <tbody>\n",
       "    <tr>\n",
       "      <th>16683</th>\n",
       "      <td>0</td>\n",
       "      <td>312469</td>\n",
       "    </tr>\n",
       "    <tr>\n",
       "      <th>16682</th>\n",
       "      <td>0</td>\n",
       "      <td>367762</td>\n",
       "    </tr>\n",
       "    <tr>\n",
       "      <th>16681</th>\n",
       "      <td>1</td>\n",
       "      <td>316815</td>\n",
       "    </tr>\n",
       "    <tr>\n",
       "      <th>16680</th>\n",
       "      <td>2</td>\n",
       "      <td>203056</td>\n",
       "    </tr>\n",
       "    <tr>\n",
       "      <th>16679</th>\n",
       "      <td>2</td>\n",
       "      <td>352259</td>\n",
       "    </tr>\n",
       "  </tbody>\n",
       "</table>\n",
       "</div>"
      ],
      "text/plain": [
       "       sessionid  track_id\n",
       "16683          0    312469\n",
       "16682          0    367762\n",
       "16681          1    316815\n",
       "16680          2    203056\n",
       "16679          2    352259"
      ]
     },
     "execution_count": 20,
     "metadata": {},
     "output_type": "execute_result"
    }
   ],
   "source": [
    "df_hist.head()"
   ]
  },
  {
   "cell_type": "code",
   "execution_count": 21,
   "metadata": {},
   "outputs": [],
   "source": [
    "session = df_hist.sessionid.unique().tolist()\n",
    "sessn_past = {}\n",
    "for ssn in session:\n",
    "    sessn_past[ssn] = []\n",
    "for row in df_hist.itertuples():\n",
    "    sessn_past[row.sessionid].append(row.track_id)"
   ]
  },
  {
   "cell_type": "code",
   "execution_count": 22,
   "metadata": {},
   "outputs": [],
   "source": [
    "session = []\n",
    "track = []\n",
    "plays = []\n",
    "for row in df_hist.itertuples():\n",
    "    session.append(row.sessionid)\n",
    "    track.append(row.track_id)\n",
    "    plays.append(1)"
   ]
  },
  {
   "cell_type": "code",
   "execution_count": 23,
   "metadata": {},
   "outputs": [],
   "source": [
    "rows = len(list(np.sort(df_hist.sessionid.unique())))\n",
    "columns = len(list(np.sort(df_hist.track_id.unique())))"
   ]
  },
  {
   "cell_type": "code",
   "execution_count": 24,
   "metadata": {},
   "outputs": [],
   "source": [
    "data_sparse = csr_matrix((plays, (session, track)), shape=(rows, columns))"
   ]
  },
  {
   "cell_type": "markdown",
   "metadata": {},
   "source": [
    "To further reduce the computational complexity of the prediction process, we select a subsample of these possible neighbors using a heuristic. In this work, we took them most sessions as focusing on recent trends has shown recent to be effective for recommendations in e-commerce ([ Determining Characteristics of Successful Recommendations from Log Data – A Case Study. In SAC ’17.](http://ls13-www.cs.tu-dortmund.de/homepage/publications/jannach/Conference_SAC_2017_logs.pdf)). We then compute the similarity of these 'm' most recent possible neighbors and the current session and select the most \"k\" similar sessions as the neighbor sessions of the current session.\n",
    "\n",
    "For our implementation, we will use m = 1500, k = 500"
   ]
  },
  {
   "cell_type": "code",
   "execution_count": 25,
   "metadata": {},
   "outputs": [],
   "source": [
    "similarities = cosine_similarity(data_sparse,dense_output=False)"
   ]
  },
  {
   "cell_type": "code",
   "execution_count": 26,
   "metadata": {},
   "outputs": [],
   "source": [
    "def findksimilarsessions(sessionid, data_sparse = data_sparse, metric=cosine, k=200):\n",
    "    sim_sparse = similarities[sessionid]\n",
    "    sim_array = sim_sparse.toarray()\n",
    "    # Let's get index for all non zeros entries in sim_array\n",
    "    r,c = np.nonzero(sim_array)\n",
    "    sim = {}\n",
    "    for col in c:\n",
    "        sim[col] = sim_array[0,col]\n",
    "    sorted_sim =  sorted(sim.items(), key=operator.itemgetter(1),reverse=True)\n",
    "    sim_session = []\n",
    "    sim_score = []\n",
    "    print(\"Top similar sessions are:\")\n",
    "    for i in range (1,len(sorted_sim)):\n",
    "        sim_session.append(sorted_sim[i][0])\n",
    "        sim_score.append(sorted_sim[i][1])\n",
    "        print(\"Session : {0} with similarity {1}\".format(sorted_sim[i][0],sorted_sim[i][1]))\n",
    "    return sim_session,sim_score"
   ]
  },
  {
   "cell_type": "code",
   "execution_count": 51,
   "metadata": {},
   "outputs": [],
   "source": [
    "def getrecommendation(sessionid):\n",
    "    pred_dict = {}\n",
    "    sessn,scor = findksimilarsessions(sessionid)\n",
    "    last_track_of_session = sessn_past[sessionid][-1] \n",
    "    track_recommendable = []\n",
    "    for ssn in sessn:\n",
    "        if (last_track_of_session in sessn_past[ssn]) & (len(sessn_past[ssn])!=1):\n",
    "            idx = sessn_past[ssn].index(last_track_of_session)\n",
    "            if idx != len(sessn_past[ssn])-1:\n",
    "                track_recommendable.append(sessn_past[ssn][idx+1])\n",
    "            if idx != 0:\n",
    "                track_recommendable.append(sessn_past[ssn][idx-1])\n",
    "    track_recommendable = list(set(track_recommendable))\n",
    "    \n",
    "    for track in track_recommendable:\n",
    "        if data_sparse[sessionid,track] != 1:\n",
    "            wtd_sum = 0\n",
    "            for i in range(len(sessn)):\n",
    "                wtd_sum += data_sparse[sessn[i],track] * scor[i]\n",
    "            pred_dict[track] = wtd_sum\n",
    "    sorted_pred =  sorted(pred_dict.items(), key=operator.itemgetter(1),reverse=True)\n",
    "    print(\"Top recommended songs are:\")\n",
    "    for i in range(len(sorted_pred)):\n",
    "        print(\"Track : {0} with score {1}\".format(sorted_pred[i][0],sorted_pred[i][1]))"
   ]
  },
  {
   "cell_type": "code",
   "execution_count": 52,
   "metadata": {},
   "outputs": [
    {
     "name": "stdout",
     "output_type": "stream",
     "text": [
      "Top similar sessions are:\n",
      "Session : 241 with similarity 0.9999999999999998\n",
      "Session : 390 with similarity 0.9999999999999998\n",
      "Session : 427 with similarity 0.9999999999999998\n",
      "Session : 1078 with similarity 0.9999999999999998\n",
      "Session : 766 with similarity 0.816496580927726\n",
      "Session : 1273 with similarity 0.816496580927726\n",
      "Session : 690 with similarity 0.7071067811865475\n",
      "Session : 967667 with similarity 0.7071067811865475\n",
      "Session : 968504 with similarity 0.7071067811865475\n",
      "Session : 495 with similarity 0.6324555320336758\n",
      "Session : 6059 with similarity 0.6324555320336758\n",
      "Session : 1322 with similarity 0.4999999999999999\n",
      "Session : 967645 with similarity 0.4999999999999999\n",
      "Session : 967682 with similarity 0.2886751345948129\n",
      "Session : 700 with similarity 0.2357022603955158\n",
      "Session : 967666 with similarity 0.2357022603955158\n",
      "Top recommended songs are:\n",
      "Track : 141947 with score 3.3979042259228036\n",
      "Track : 48396 with score 0.2357022603955158\n"
     ]
    }
   ],
   "source": [
    "getrecommendation(0)"
   ]
  },
  {
   "cell_type": "code",
   "execution_count": 57,
   "metadata": {},
   "outputs": [],
   "source": [
    "last_track_id = df_hist[df_hist.sessionid == 0].track_id.tolist()[-1]"
   ]
  },
  {
   "cell_type": "code",
   "execution_count": 59,
   "metadata": {},
   "outputs": [
    {
     "data": {
      "text/plain": [
       "367762"
      ]
     },
     "execution_count": 59,
     "metadata": {},
     "output_type": "execute_result"
    }
   ],
   "source": [
    "last_track_id"
   ]
  },
  {
   "cell_type": "code",
   "execution_count": 55,
   "metadata": {},
   "outputs": [],
   "source": [
    "recommended_track_list = [141947,48396]"
   ]
  },
  {
   "cell_type": "code",
   "execution_count": 63,
   "metadata": {},
   "outputs": [
    {
     "data": {
      "text/html": [
       "<div>\n",
       "<style scoped>\n",
       "    .dataframe tbody tr th:only-of-type {\n",
       "        vertical-align: middle;\n",
       "    }\n",
       "\n",
       "    .dataframe tbody tr th {\n",
       "        vertical-align: top;\n",
       "    }\n",
       "\n",
       "    .dataframe thead th {\n",
       "        text-align: right;\n",
       "    }\n",
       "</style>\n",
       "<table border=\"1\" class=\"dataframe\">\n",
       "  <thead>\n",
       "    <tr style=\"text-align: right;\">\n",
       "      <th></th>\n",
       "      <th>track_id</th>\n",
       "      <th>trackname</th>\n",
       "      <th>artistname</th>\n",
       "    </tr>\n",
       "  </thead>\n",
       "  <tbody>\n",
       "    <tr>\n",
       "      <th>16683</th>\n",
       "      <td>312469</td>\n",
       "      <td>The Launching Of Big Face</td>\n",
       "      <td>Plaid &amp; Bob Jaroc</td>\n",
       "    </tr>\n",
       "    <tr>\n",
       "      <th>16682</th>\n",
       "      <td>367762</td>\n",
       "      <td>Zn Zero</td>\n",
       "      <td>Plaid &amp; Bob Jaroc</td>\n",
       "    </tr>\n",
       "    <tr>\n",
       "      <th>16681</th>\n",
       "      <td>316815</td>\n",
       "      <td>The Return Of Super Barrio - End Credits</td>\n",
       "      <td>Plaid &amp; Bob Jaroc</td>\n",
       "    </tr>\n",
       "    <tr>\n",
       "      <th>16680</th>\n",
       "      <td>203056</td>\n",
       "      <td>Mission Flats</td>\n",
       "      <td>Tommy Guerrero</td>\n",
       "    </tr>\n",
       "    <tr>\n",
       "      <th>16679</th>\n",
       "      <td>352259</td>\n",
       "      <td>What You Gonna Do?</td>\n",
       "      <td>Artful Dodger</td>\n",
       "    </tr>\n",
       "  </tbody>\n",
       "</table>\n",
       "</div>"
      ],
      "text/plain": [
       "       track_id                                 trackname         artistname\n",
       "16683    312469                 The Launching Of Big Face  Plaid & Bob Jaroc\n",
       "16682    367762                                   Zn Zero  Plaid & Bob Jaroc\n",
       "16681    316815  The Return Of Super Barrio - End Credits  Plaid & Bob Jaroc\n",
       "16680    203056                             Mission Flats     Tommy Guerrero\n",
       "16679    352259                        What You Gonna Do?      Artful Dodger"
      ]
     },
     "execution_count": 63,
     "metadata": {},
     "output_type": "execute_result"
    }
   ],
   "source": [
    "track_lookup.head()"
   ]
  },
  {
   "cell_type": "code",
   "execution_count": 68,
   "metadata": {},
   "outputs": [
    {
     "data": {
      "text/plain": [
       "'Zn Zero'"
      ]
     },
     "execution_count": 68,
     "metadata": {},
     "output_type": "execute_result"
    }
   ],
   "source": [
    "list(set(track_lookup[track_lookup.track_id == 367762].trackname.tolist()))[0]"
   ]
  },
  {
   "cell_type": "code",
   "execution_count": 69,
   "metadata": {},
   "outputs": [
    {
     "name": "stdout",
     "output_type": "stream",
     "text": [
      "============LISTENED TO============\n",
      "Zn Zero\n",
      "============RECOMMENDED============\n",
      "I Citizen The Loathsome\n",
      "Breezin'\n"
     ]
    }
   ],
   "source": [
    "print(\"============LISTENED TO============\")\n",
    "track_name = list(set(track_lookup[track_lookup.track_id == last_track_id].trackname.tolist()))[0]\n",
    "print(track_name)\n",
    "print(\"============RECOMMENDED============\")\n",
    "for track in recommended_track_list:\n",
    "    track_name = list(set(track_lookup[track_lookup.track_id == track].trackname.tolist()))[0]\n",
    "    print(track_name)"
   ]
  },
  {
   "cell_type": "code",
   "execution_count": 72,
   "metadata": {},
   "outputs": [
    {
     "data": {
      "text/html": [
       "<div>\n",
       "<style scoped>\n",
       "    .dataframe tbody tr th:only-of-type {\n",
       "        vertical-align: middle;\n",
       "    }\n",
       "\n",
       "    .dataframe tbody tr th {\n",
       "        vertical-align: top;\n",
       "    }\n",
       "\n",
       "    .dataframe thead th {\n",
       "        text-align: right;\n",
       "    }\n",
       "</style>\n",
       "<table border=\"1\" class=\"dataframe\">\n",
       "  <thead>\n",
       "    <tr style=\"text-align: right;\">\n",
       "      <th></th>\n",
       "      <th>track_id</th>\n",
       "      <th>trackname</th>\n",
       "      <th>artistname</th>\n",
       "    </tr>\n",
       "  </thead>\n",
       "  <tbody>\n",
       "    <tr>\n",
       "      <th>16682</th>\n",
       "      <td>367762</td>\n",
       "      <td>Zn Zero</td>\n",
       "      <td>Plaid &amp; Bob Jaroc</td>\n",
       "    </tr>\n",
       "    <tr>\n",
       "      <th>3524584</th>\n",
       "      <td>367762</td>\n",
       "      <td>Zn Zero</td>\n",
       "      <td>Plaid</td>\n",
       "    </tr>\n",
       "  </tbody>\n",
       "</table>\n",
       "</div>"
      ],
      "text/plain": [
       "         track_id trackname         artistname\n",
       "16682      367762   Zn Zero  Plaid & Bob Jaroc\n",
       "3524584    367762   Zn Zero              Plaid"
      ]
     },
     "execution_count": 72,
     "metadata": {},
     "output_type": "execute_result"
    }
   ],
   "source": [
    "track_lookup[track_lookup.trackname == 'Zn Zero']"
   ]
  },
  {
   "cell_type": "code",
   "execution_count": 73,
   "metadata": {},
   "outputs": [
    {
     "data": {
      "text/html": [
       "<div>\n",
       "<style scoped>\n",
       "    .dataframe tbody tr th:only-of-type {\n",
       "        vertical-align: middle;\n",
       "    }\n",
       "\n",
       "    .dataframe tbody tr th {\n",
       "        vertical-align: top;\n",
       "    }\n",
       "\n",
       "    .dataframe thead th {\n",
       "        text-align: right;\n",
       "    }\n",
       "</style>\n",
       "<table border=\"1\" class=\"dataframe\">\n",
       "  <thead>\n",
       "    <tr style=\"text-align: right;\">\n",
       "      <th></th>\n",
       "      <th>track_id</th>\n",
       "      <th>trackname</th>\n",
       "      <th>artistname</th>\n",
       "    </tr>\n",
       "  </thead>\n",
       "  <tbody>\n",
       "    <tr>\n",
       "      <th>15963</th>\n",
       "      <td>141947</td>\n",
       "      <td>I Citizen The Loathsome</td>\n",
       "      <td>Plaid &amp; Bob Jaroc</td>\n",
       "    </tr>\n",
       "  </tbody>\n",
       "</table>\n",
       "</div>"
      ],
      "text/plain": [
       "       track_id                trackname         artistname\n",
       "15963    141947  I Citizen The Loathsome  Plaid & Bob Jaroc"
      ]
     },
     "execution_count": 73,
     "metadata": {},
     "output_type": "execute_result"
    }
   ],
   "source": [
    "track_lookup[track_lookup.trackname == 'I Citizen The Loathsome']"
   ]
  },
  {
   "cell_type": "code",
   "execution_count": 76,
   "metadata": {},
   "outputs": [
    {
     "data": {
      "text/html": [
       "<div>\n",
       "<style scoped>\n",
       "    .dataframe tbody tr th:only-of-type {\n",
       "        vertical-align: middle;\n",
       "    }\n",
       "\n",
       "    .dataframe tbody tr th {\n",
       "        vertical-align: top;\n",
       "    }\n",
       "\n",
       "    .dataframe thead th {\n",
       "        text-align: right;\n",
       "    }\n",
       "</style>\n",
       "<table border=\"1\" class=\"dataframe\">\n",
       "  <thead>\n",
       "    <tr style=\"text-align: right;\">\n",
       "      <th></th>\n",
       "      <th>track_id</th>\n",
       "      <th>trackname</th>\n",
       "      <th>artistname</th>\n",
       "    </tr>\n",
       "  </thead>\n",
       "  <tbody>\n",
       "    <tr>\n",
       "      <th>2669242</th>\n",
       "      <td>48395</td>\n",
       "      <td>Breezin</td>\n",
       "      <td>George Benson</td>\n",
       "    </tr>\n",
       "  </tbody>\n",
       "</table>\n",
       "</div>"
      ],
      "text/plain": [
       "         track_id trackname     artistname\n",
       "2669242     48395   Breezin  George Benson"
      ]
     },
     "execution_count": 76,
     "metadata": {},
     "output_type": "execute_result"
    }
   ],
   "source": [
    "track_lookup[track_lookup.trackname == 'Breezin']"
   ]
  },
  {
   "cell_type": "markdown",
   "metadata": {},
   "source": [
    "So, the session which had \"Zn Zero\" by Plaid as it's last song will then be recommended \"I Citizen The Loathsome\" by Plaid again as suggested by previous sessions, and it makes sense too."
   ]
  },
  {
   "cell_type": "code",
   "execution_count": null,
   "metadata": {},
   "outputs": [],
   "source": []
  }
 ],
 "metadata": {
  "kernelspec": {
   "display_name": "Python 3",
   "language": "python",
   "name": "python3"
  },
  "language_info": {
   "codemirror_mode": {
    "name": "ipython",
    "version": 3
   },
   "file_extension": ".py",
   "mimetype": "text/x-python",
   "name": "python",
   "nbconvert_exporter": "python",
   "pygments_lexer": "ipython3",
   "version": "3.7.3"
  }
 },
 "nbformat": 4,
 "nbformat_minor": 2
}
