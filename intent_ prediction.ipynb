{
 "cells": [
  {
   "cell_type": "markdown",
   "metadata": {},
   "source": [
    "Recommender systems are changing from novelties used by a few E-commerce sites, to serious business tools that are re-shaping the world of E-commerce. Many of the largest commerce Web sites are already using recommender systems to help their customers find products to purchase. A recommender system learns from a customer and recommends products that she will find most valuable from among the available products.\n",
    "\n",
    "On any e-commerce site, a lot of exploration, clicking, and comparison shopping happens but with little sales and conversion. As per E-consultancy’s latest survey, on an average, a visitor spends 4-5 minutes browsing through e-commerce sites, but the online conversion rate still remains at 1.4%. To improve online conversion and sales, e-commerce majors like Amazon and Walmart personalize their website content and create offers to target various customer segments.\n",
    "\n",
    "Fortunately, this can be done using clickstream data analysis. Clickstream data can tell an e-commerce site owner what products the customer has been browsing, the product categories the visitor is exploring, and how prices, ratings, and other relevant information are influencing buying decisions."
   ]
  },
  {
   "cell_type": "code",
   "execution_count": 1,
   "metadata": {},
   "outputs": [],
   "source": [
    "import pandas as pd\n",
    "import numpy as np\n",
    "\n",
    "import datetime \n",
    "import time\n",
    "\n",
    "%matplotlib inline\n",
    "import matplotlib.pyplot as plt \n",
    "import seaborn as sns"
   ]
  },
  {
   "cell_type": "code",
   "execution_count": 2,
   "metadata": {},
   "outputs": [],
   "source": [
    "import random\n",
    "import sklearn.utils"
   ]
  },
  {
   "cell_type": "code",
   "execution_count": 200,
   "metadata": {},
   "outputs": [
    {
     "data": {
      "text/html": [
       "<div>\n",
       "<style scoped>\n",
       "    .dataframe tbody tr th:only-of-type {\n",
       "        vertical-align: middle;\n",
       "    }\n",
       "\n",
       "    .dataframe tbody tr th {\n",
       "        vertical-align: top;\n",
       "    }\n",
       "\n",
       "    .dataframe thead th {\n",
       "        text-align: right;\n",
       "    }\n",
       "</style>\n",
       "<table border=\"1\" class=\"dataframe\">\n",
       "  <thead>\n",
       "    <tr style=\"text-align: right;\">\n",
       "      <th></th>\n",
       "      <th>timestamp</th>\n",
       "      <th>visitorid</th>\n",
       "      <th>event</th>\n",
       "      <th>itemid</th>\n",
       "      <th>transactionid</th>\n",
       "    </tr>\n",
       "  </thead>\n",
       "  <tbody>\n",
       "    <tr>\n",
       "      <th>0</th>\n",
       "      <td>1433221332117</td>\n",
       "      <td>257597</td>\n",
       "      <td>view</td>\n",
       "      <td>355908</td>\n",
       "      <td>NaN</td>\n",
       "    </tr>\n",
       "    <tr>\n",
       "      <th>1</th>\n",
       "      <td>1433224214164</td>\n",
       "      <td>992329</td>\n",
       "      <td>view</td>\n",
       "      <td>248676</td>\n",
       "      <td>NaN</td>\n",
       "    </tr>\n",
       "    <tr>\n",
       "      <th>2</th>\n",
       "      <td>1433221999827</td>\n",
       "      <td>111016</td>\n",
       "      <td>view</td>\n",
       "      <td>318965</td>\n",
       "      <td>NaN</td>\n",
       "    </tr>\n",
       "    <tr>\n",
       "      <th>3</th>\n",
       "      <td>1433221955914</td>\n",
       "      <td>483717</td>\n",
       "      <td>view</td>\n",
       "      <td>253185</td>\n",
       "      <td>NaN</td>\n",
       "    </tr>\n",
       "    <tr>\n",
       "      <th>4</th>\n",
       "      <td>1433221337106</td>\n",
       "      <td>951259</td>\n",
       "      <td>view</td>\n",
       "      <td>367447</td>\n",
       "      <td>NaN</td>\n",
       "    </tr>\n",
       "  </tbody>\n",
       "</table>\n",
       "</div>"
      ],
      "text/plain": [
       "       timestamp  visitorid event  itemid  transactionid\n",
       "0  1433221332117     257597  view  355908            NaN\n",
       "1  1433224214164     992329  view  248676            NaN\n",
       "2  1433221999827     111016  view  318965            NaN\n",
       "3  1433221955914     483717  view  253185            NaN\n",
       "4  1433221337106     951259  view  367447            NaN"
      ]
     },
     "execution_count": 200,
     "metadata": {},
     "output_type": "execute_result"
    }
   ],
   "source": [
    "event_df = pd.read_csv('events.csv')\n",
    "event_df.head()"
   ]
  },
  {
   "cell_type": "code",
   "execution_count": 4,
   "metadata": {},
   "outputs": [
    {
     "data": {
      "text/plain": [
       "1407580"
      ]
     },
     "execution_count": 4,
     "metadata": {},
     "output_type": "execute_result"
    }
   ],
   "source": [
    "#Let's get all unique visitor ids as well\n",
    "all_customers = event_df.visitorid.unique()\n",
    "all_customers.size"
   ]
  },
  {
   "cell_type": "markdown",
   "metadata": {},
   "source": [
    "So, we have a total of 1407580 unique visitors. But not all of them would end up purchasing something. How many of them do actually? \n",
    "\n",
    "For our dataset, the customers who have bought something the 'transactionid' is not NULL."
   ]
  },
  {
   "cell_type": "code",
   "execution_count": 5,
   "metadata": {},
   "outputs": [
    {
     "data": {
      "text/plain": [
       "11719"
      ]
     },
     "execution_count": 5,
     "metadata": {},
     "output_type": "execute_result"
    }
   ],
   "source": [
    "#Let's get all the customers who bought something\n",
    "customer_purchased = event_df[event_df.transactionid.notnull()].visitorid.unique()\n",
    "customer_purchased.size"
   ]
  },
  {
   "cell_type": "markdown",
   "metadata": {},
   "source": [
    "Out of 1407580 visitors, only 11719 customers ended up buying. So, the click through rate is around 0.83%."
   ]
  },
  {
   "cell_type": "code",
   "execution_count": 6,
   "metadata": {},
   "outputs": [
    {
     "data": {
      "text/plain": [
       "1395861"
      ]
     },
     "execution_count": 6,
     "metadata": {},
     "output_type": "execute_result"
    }
   ],
   "source": [
    "customer_browsed = [x for x in all_customers if x not in customer_purchased]\n",
    "len(customer_browsed)"
   ]
  },
  {
   "cell_type": "markdown",
   "metadata": {},
   "source": [
    "Rest all, that is 1395861 visitors left without buying."
   ]
  },
  {
   "cell_type": "markdown",
   "metadata": {},
   "source": [
    "Let's now see the differnt kinds of events that are possible:"
   ]
  },
  {
   "cell_type": "code",
   "execution_count": 7,
   "metadata": {},
   "outputs": [
    {
     "data": {
      "text/plain": [
       "array(['view', 'addtocart', 'transaction'], dtype=object)"
      ]
     },
     "execution_count": 7,
     "metadata": {},
     "output_type": "execute_result"
    }
   ],
   "source": [
    "event_df.event.unique()"
   ]
  },
  {
   "cell_type": "code",
   "execution_count": 8,
   "metadata": {},
   "outputs": [
    {
     "data": {
      "text/html": [
       "<div>\n",
       "<style scoped>\n",
       "    .dataframe tbody tr th:only-of-type {\n",
       "        vertical-align: middle;\n",
       "    }\n",
       "\n",
       "    .dataframe tbody tr th {\n",
       "        vertical-align: top;\n",
       "    }\n",
       "\n",
       "    .dataframe thead th {\n",
       "        text-align: right;\n",
       "    }\n",
       "</style>\n",
       "<table border=\"1\" class=\"dataframe\">\n",
       "  <thead>\n",
       "    <tr style=\"text-align: right;\">\n",
       "      <th></th>\n",
       "      <th>timestamp</th>\n",
       "      <th>visitorid</th>\n",
       "      <th>event</th>\n",
       "      <th>itemid</th>\n",
       "      <th>transactionid</th>\n",
       "    </tr>\n",
       "  </thead>\n",
       "  <tbody>\n",
       "    <tr>\n",
       "      <th>0</th>\n",
       "      <td>1433221332117</td>\n",
       "      <td>257597</td>\n",
       "      <td>view</td>\n",
       "      <td>355908</td>\n",
       "      <td>NaN</td>\n",
       "    </tr>\n",
       "    <tr>\n",
       "      <th>1</th>\n",
       "      <td>1433224214164</td>\n",
       "      <td>992329</td>\n",
       "      <td>view</td>\n",
       "      <td>248676</td>\n",
       "      <td>NaN</td>\n",
       "    </tr>\n",
       "    <tr>\n",
       "      <th>2</th>\n",
       "      <td>1433221999827</td>\n",
       "      <td>111016</td>\n",
       "      <td>view</td>\n",
       "      <td>318965</td>\n",
       "      <td>NaN</td>\n",
       "    </tr>\n",
       "    <tr>\n",
       "      <th>3</th>\n",
       "      <td>1433221955914</td>\n",
       "      <td>483717</td>\n",
       "      <td>view</td>\n",
       "      <td>253185</td>\n",
       "      <td>NaN</td>\n",
       "    </tr>\n",
       "    <tr>\n",
       "      <th>4</th>\n",
       "      <td>1433221337106</td>\n",
       "      <td>951259</td>\n",
       "      <td>view</td>\n",
       "      <td>367447</td>\n",
       "      <td>NaN</td>\n",
       "    </tr>\n",
       "  </tbody>\n",
       "</table>\n",
       "</div>"
      ],
      "text/plain": [
       "       timestamp  visitorid event  itemid  transactionid\n",
       "0  1433221332117     257597  view  355908            NaN\n",
       "1  1433224214164     992329  view  248676            NaN\n",
       "2  1433221999827     111016  view  318965            NaN\n",
       "3  1433221955914     483717  view  253185            NaN\n",
       "4  1433221337106     951259  view  367447            NaN"
      ]
     },
     "execution_count": 8,
     "metadata": {},
     "output_type": "execute_result"
    }
   ],
   "source": [
    "event_df.head()"
   ]
  },
  {
   "cell_type": "markdown",
   "metadata": {},
   "source": [
    "As 'visiotrid' is the only information we have regarding the user who made the purachase or other event, we will treat each visitorid as uninque user."
   ]
  },
  {
   "cell_type": "markdown",
   "metadata": {},
   "source": [
    "### Intent Prediction\n",
    "\n",
    "Actions of user on a system can be representative of a certain intent. Ability to learn this intent through user’s actions can help draw certain insight into the behavior of users on a system.\n",
    "\n",
    "Virtually all Ecommerce systems can be thought of as a generator of clickstream data - a log of {item - userid -action} tuples which captures user interactions with the system. A chronological set of these tuples grouped by user ID is commonly known as a\n",
    "session. It is intuitively appealing to think of the patterns encoded in clickstream data that can be parsed and understood by LSTM to improve predictive performance."
   ]
  },
  {
   "cell_type": "markdown",
   "metadata": {},
   "source": [
    "Let's see the entire journey of 5 customers who ended up buying:"
   ]
  },
  {
   "cell_type": "code",
   "execution_count": 9,
   "metadata": {},
   "outputs": [
    {
     "name": "stdout",
     "output_type": "stream",
     "text": [
      "599528\n",
      "view->addtocart->transaction->view->view->view->view->view->view->view->view->view->view->view->view->view->view\n",
      " \n",
      "121688\n",
      "addtocart->view->view->addtocart->addtocart->addtocart->view->view->view->view->addtocart->addtocart->view->view->addtocart->view->addtocart->addtocart->view->view->addtocart->view->view->view->addtocart->view->transaction->transaction->transaction->transaction->transaction->transaction->transaction->transaction->transaction->transaction->transaction\n",
      " \n",
      "552148\n",
      "view->addtocart->transaction\n",
      " \n",
      "102019\n",
      "view->addtocart->view->view->view->view->view->transaction->transaction\n",
      " \n",
      "189384\n",
      "view->view->view->view->view->view->view->addtocart->addtocart->transaction->transaction->view->view->view->view->view->view->view->view->view->view->view->view->view->view->view->view->view->view\n",
      " \n"
     ]
    }
   ],
   "source": [
    "for customer in customer_purchased[:5]:\n",
    "    path = event_df[event_df.visitorid == customer].sort_values('timestamp').event.tolist()\n",
    "    print(customer)\n",
    "    print(*path, sep = \"->\")\n",
    "    print(\" \")"
   ]
  },
  {
   "cell_type": "markdown",
   "metadata": {},
   "source": [
    "For simplicity, let's map events to values instead as follows:\n",
    "* view : 1\n",
    "* addtocart : 2\n",
    "* transaction : 3"
   ]
  },
  {
   "cell_type": "code",
   "execution_count": 10,
   "metadata": {},
   "outputs": [],
   "source": [
    "event_df.event = event_df.event.map({'view' :'1', 'addtocart':'2', 'transaction':'3'})"
   ]
  },
  {
   "cell_type": "code",
   "execution_count": 11,
   "metadata": {},
   "outputs": [
    {
     "data": {
      "text/html": [
       "<div>\n",
       "<style scoped>\n",
       "    .dataframe tbody tr th:only-of-type {\n",
       "        vertical-align: middle;\n",
       "    }\n",
       "\n",
       "    .dataframe tbody tr th {\n",
       "        vertical-align: top;\n",
       "    }\n",
       "\n",
       "    .dataframe thead th {\n",
       "        text-align: right;\n",
       "    }\n",
       "</style>\n",
       "<table border=\"1\" class=\"dataframe\">\n",
       "  <thead>\n",
       "    <tr style=\"text-align: right;\">\n",
       "      <th></th>\n",
       "      <th>timestamp</th>\n",
       "      <th>visitorid</th>\n",
       "      <th>event</th>\n",
       "      <th>itemid</th>\n",
       "      <th>transactionid</th>\n",
       "    </tr>\n",
       "  </thead>\n",
       "  <tbody>\n",
       "    <tr>\n",
       "      <th>0</th>\n",
       "      <td>1433221332117</td>\n",
       "      <td>257597</td>\n",
       "      <td>1</td>\n",
       "      <td>355908</td>\n",
       "      <td>NaN</td>\n",
       "    </tr>\n",
       "    <tr>\n",
       "      <th>1</th>\n",
       "      <td>1433224214164</td>\n",
       "      <td>992329</td>\n",
       "      <td>1</td>\n",
       "      <td>248676</td>\n",
       "      <td>NaN</td>\n",
       "    </tr>\n",
       "    <tr>\n",
       "      <th>2</th>\n",
       "      <td>1433221999827</td>\n",
       "      <td>111016</td>\n",
       "      <td>1</td>\n",
       "      <td>318965</td>\n",
       "      <td>NaN</td>\n",
       "    </tr>\n",
       "    <tr>\n",
       "      <th>3</th>\n",
       "      <td>1433221955914</td>\n",
       "      <td>483717</td>\n",
       "      <td>1</td>\n",
       "      <td>253185</td>\n",
       "      <td>NaN</td>\n",
       "    </tr>\n",
       "    <tr>\n",
       "      <th>4</th>\n",
       "      <td>1433221337106</td>\n",
       "      <td>951259</td>\n",
       "      <td>1</td>\n",
       "      <td>367447</td>\n",
       "      <td>NaN</td>\n",
       "    </tr>\n",
       "    <tr>\n",
       "      <th>5</th>\n",
       "      <td>1433224086234</td>\n",
       "      <td>972639</td>\n",
       "      <td>1</td>\n",
       "      <td>22556</td>\n",
       "      <td>NaN</td>\n",
       "    </tr>\n",
       "    <tr>\n",
       "      <th>6</th>\n",
       "      <td>1433221923240</td>\n",
       "      <td>810725</td>\n",
       "      <td>1</td>\n",
       "      <td>443030</td>\n",
       "      <td>NaN</td>\n",
       "    </tr>\n",
       "    <tr>\n",
       "      <th>7</th>\n",
       "      <td>1433223291897</td>\n",
       "      <td>794181</td>\n",
       "      <td>1</td>\n",
       "      <td>439202</td>\n",
       "      <td>NaN</td>\n",
       "    </tr>\n",
       "    <tr>\n",
       "      <th>8</th>\n",
       "      <td>1433220899221</td>\n",
       "      <td>824915</td>\n",
       "      <td>1</td>\n",
       "      <td>428805</td>\n",
       "      <td>NaN</td>\n",
       "    </tr>\n",
       "    <tr>\n",
       "      <th>9</th>\n",
       "      <td>1433221204592</td>\n",
       "      <td>339335</td>\n",
       "      <td>1</td>\n",
       "      <td>82389</td>\n",
       "      <td>NaN</td>\n",
       "    </tr>\n",
       "    <tr>\n",
       "      <th>10</th>\n",
       "      <td>1433222162373</td>\n",
       "      <td>176446</td>\n",
       "      <td>1</td>\n",
       "      <td>10572</td>\n",
       "      <td>NaN</td>\n",
       "    </tr>\n",
       "    <tr>\n",
       "      <th>11</th>\n",
       "      <td>1433221701252</td>\n",
       "      <td>929206</td>\n",
       "      <td>1</td>\n",
       "      <td>410676</td>\n",
       "      <td>NaN</td>\n",
       "    </tr>\n",
       "    <tr>\n",
       "      <th>12</th>\n",
       "      <td>1433224229496</td>\n",
       "      <td>15795</td>\n",
       "      <td>1</td>\n",
       "      <td>44872</td>\n",
       "      <td>NaN</td>\n",
       "    </tr>\n",
       "    <tr>\n",
       "      <th>13</th>\n",
       "      <td>1433223697356</td>\n",
       "      <td>598426</td>\n",
       "      <td>1</td>\n",
       "      <td>156489</td>\n",
       "      <td>NaN</td>\n",
       "    </tr>\n",
       "    <tr>\n",
       "      <th>14</th>\n",
       "      <td>1433224078165</td>\n",
       "      <td>223343</td>\n",
       "      <td>1</td>\n",
       "      <td>402625</td>\n",
       "      <td>NaN</td>\n",
       "    </tr>\n",
       "    <tr>\n",
       "      <th>15</th>\n",
       "      <td>1433222531378</td>\n",
       "      <td>57036</td>\n",
       "      <td>1</td>\n",
       "      <td>334662</td>\n",
       "      <td>NaN</td>\n",
       "    </tr>\n",
       "    <tr>\n",
       "      <th>16</th>\n",
       "      <td>1433223239808</td>\n",
       "      <td>1377281</td>\n",
       "      <td>1</td>\n",
       "      <td>251467</td>\n",
       "      <td>NaN</td>\n",
       "    </tr>\n",
       "    <tr>\n",
       "      <th>17</th>\n",
       "      <td>1433223236124</td>\n",
       "      <td>287857</td>\n",
       "      <td>2</td>\n",
       "      <td>5206</td>\n",
       "      <td>NaN</td>\n",
       "    </tr>\n",
       "    <tr>\n",
       "      <th>18</th>\n",
       "      <td>1433224244282</td>\n",
       "      <td>1370216</td>\n",
       "      <td>1</td>\n",
       "      <td>176721</td>\n",
       "      <td>NaN</td>\n",
       "    </tr>\n",
       "    <tr>\n",
       "      <th>19</th>\n",
       "      <td>1433221078505</td>\n",
       "      <td>158090</td>\n",
       "      <td>2</td>\n",
       "      <td>10572</td>\n",
       "      <td>NaN</td>\n",
       "    </tr>\n",
       "    <tr>\n",
       "      <th>20</th>\n",
       "      <td>1433224070841</td>\n",
       "      <td>1398644</td>\n",
       "      <td>1</td>\n",
       "      <td>135256</td>\n",
       "      <td>NaN</td>\n",
       "    </tr>\n",
       "    <tr>\n",
       "      <th>21</th>\n",
       "      <td>1433224252461</td>\n",
       "      <td>653756</td>\n",
       "      <td>1</td>\n",
       "      <td>132316</td>\n",
       "      <td>NaN</td>\n",
       "    </tr>\n",
       "    <tr>\n",
       "      <th>22</th>\n",
       "      <td>1433221274809</td>\n",
       "      <td>1213673</td>\n",
       "      <td>1</td>\n",
       "      <td>343861</td>\n",
       "      <td>NaN</td>\n",
       "    </tr>\n",
       "    <tr>\n",
       "      <th>23</th>\n",
       "      <td>1433221275206</td>\n",
       "      <td>864246</td>\n",
       "      <td>1</td>\n",
       "      <td>36642</td>\n",
       "      <td>NaN</td>\n",
       "    </tr>\n",
       "    <tr>\n",
       "      <th>24</th>\n",
       "      <td>1433223203944</td>\n",
       "      <td>125625</td>\n",
       "      <td>1</td>\n",
       "      <td>17655</td>\n",
       "      <td>NaN</td>\n",
       "    </tr>\n",
       "    <tr>\n",
       "      <th>25</th>\n",
       "      <td>1433224683817</td>\n",
       "      <td>608100</td>\n",
       "      <td>1</td>\n",
       "      <td>187722</td>\n",
       "      <td>NaN</td>\n",
       "    </tr>\n",
       "    <tr>\n",
       "      <th>26</th>\n",
       "      <td>1433221373311</td>\n",
       "      <td>781127</td>\n",
       "      <td>1</td>\n",
       "      <td>21989</td>\n",
       "      <td>NaN</td>\n",
       "    </tr>\n",
       "    <tr>\n",
       "      <th>27</th>\n",
       "      <td>1433222147345</td>\n",
       "      <td>1076270</td>\n",
       "      <td>1</td>\n",
       "      <td>262799</td>\n",
       "      <td>NaN</td>\n",
       "    </tr>\n",
       "    <tr>\n",
       "      <th>28</th>\n",
       "      <td>1433224554732</td>\n",
       "      <td>453474</td>\n",
       "      <td>1</td>\n",
       "      <td>250696</td>\n",
       "      <td>NaN</td>\n",
       "    </tr>\n",
       "    <tr>\n",
       "      <th>29</th>\n",
       "      <td>1433221377547</td>\n",
       "      <td>1153198</td>\n",
       "      <td>1</td>\n",
       "      <td>388242</td>\n",
       "      <td>NaN</td>\n",
       "    </tr>\n",
       "    <tr>\n",
       "      <th>...</th>\n",
       "      <td>...</td>\n",
       "      <td>...</td>\n",
       "      <td>...</td>\n",
       "      <td>...</td>\n",
       "      <td>...</td>\n",
       "    </tr>\n",
       "    <tr>\n",
       "      <th>2756071</th>\n",
       "      <td>1438400950177</td>\n",
       "      <td>916871</td>\n",
       "      <td>1</td>\n",
       "      <td>233369</td>\n",
       "      <td>NaN</td>\n",
       "    </tr>\n",
       "    <tr>\n",
       "      <th>2756072</th>\n",
       "      <td>1438399256437</td>\n",
       "      <td>358086</td>\n",
       "      <td>1</td>\n",
       "      <td>187946</td>\n",
       "      <td>NaN</td>\n",
       "    </tr>\n",
       "    <tr>\n",
       "      <th>2756073</th>\n",
       "      <td>1438401820781</td>\n",
       "      <td>1359054</td>\n",
       "      <td>1</td>\n",
       "      <td>265810</td>\n",
       "      <td>NaN</td>\n",
       "    </tr>\n",
       "    <tr>\n",
       "      <th>2756074</th>\n",
       "      <td>1438400994744</td>\n",
       "      <td>144106</td>\n",
       "      <td>2</td>\n",
       "      <td>141241</td>\n",
       "      <td>NaN</td>\n",
       "    </tr>\n",
       "    <tr>\n",
       "      <th>2756075</th>\n",
       "      <td>1438399016390</td>\n",
       "      <td>1202112</td>\n",
       "      <td>1</td>\n",
       "      <td>274206</td>\n",
       "      <td>NaN</td>\n",
       "    </tr>\n",
       "    <tr>\n",
       "      <th>2756076</th>\n",
       "      <td>1438400304353</td>\n",
       "      <td>333944</td>\n",
       "      <td>1</td>\n",
       "      <td>235771</td>\n",
       "      <td>NaN</td>\n",
       "    </tr>\n",
       "    <tr>\n",
       "      <th>2756077</th>\n",
       "      <td>1438400580953</td>\n",
       "      <td>1217709</td>\n",
       "      <td>1</td>\n",
       "      <td>303704</td>\n",
       "      <td>NaN</td>\n",
       "    </tr>\n",
       "    <tr>\n",
       "      <th>2756078</th>\n",
       "      <td>1438399807937</td>\n",
       "      <td>804736</td>\n",
       "      <td>2</td>\n",
       "      <td>447661</td>\n",
       "      <td>NaN</td>\n",
       "    </tr>\n",
       "    <tr>\n",
       "      <th>2756079</th>\n",
       "      <td>1438400010258</td>\n",
       "      <td>639019</td>\n",
       "      <td>1</td>\n",
       "      <td>47138</td>\n",
       "      <td>NaN</td>\n",
       "    </tr>\n",
       "    <tr>\n",
       "      <th>2756080</th>\n",
       "      <td>1438397861378</td>\n",
       "      <td>657600</td>\n",
       "      <td>1</td>\n",
       "      <td>110945</td>\n",
       "      <td>NaN</td>\n",
       "    </tr>\n",
       "    <tr>\n",
       "      <th>2756081</th>\n",
       "      <td>1438400133197</td>\n",
       "      <td>668517</td>\n",
       "      <td>1</td>\n",
       "      <td>120164</td>\n",
       "      <td>NaN</td>\n",
       "    </tr>\n",
       "    <tr>\n",
       "      <th>2756082</th>\n",
       "      <td>1438396874575</td>\n",
       "      <td>148010</td>\n",
       "      <td>1</td>\n",
       "      <td>58194</td>\n",
       "      <td>NaN</td>\n",
       "    </tr>\n",
       "    <tr>\n",
       "      <th>2756083</th>\n",
       "      <td>1438401803214</td>\n",
       "      <td>1392454</td>\n",
       "      <td>1</td>\n",
       "      <td>4148</td>\n",
       "      <td>NaN</td>\n",
       "    </tr>\n",
       "    <tr>\n",
       "      <th>2756084</th>\n",
       "      <td>1438398750926</td>\n",
       "      <td>865207</td>\n",
       "      <td>1</td>\n",
       "      <td>454768</td>\n",
       "      <td>NaN</td>\n",
       "    </tr>\n",
       "    <tr>\n",
       "      <th>2756085</th>\n",
       "      <td>1438398987844</td>\n",
       "      <td>392351</td>\n",
       "      <td>1</td>\n",
       "      <td>400896</td>\n",
       "      <td>NaN</td>\n",
       "    </tr>\n",
       "    <tr>\n",
       "      <th>2756086</th>\n",
       "      <td>1438398088257</td>\n",
       "      <td>887677</td>\n",
       "      <td>1</td>\n",
       "      <td>415160</td>\n",
       "      <td>NaN</td>\n",
       "    </tr>\n",
       "    <tr>\n",
       "      <th>2756087</th>\n",
       "      <td>1438397455397</td>\n",
       "      <td>611270</td>\n",
       "      <td>1</td>\n",
       "      <td>432925</td>\n",
       "      <td>NaN</td>\n",
       "    </tr>\n",
       "    <tr>\n",
       "      <th>2756088</th>\n",
       "      <td>1438400147472</td>\n",
       "      <td>831605</td>\n",
       "      <td>1</td>\n",
       "      <td>57810</td>\n",
       "      <td>NaN</td>\n",
       "    </tr>\n",
       "    <tr>\n",
       "      <th>2756089</th>\n",
       "      <td>1438397131078</td>\n",
       "      <td>285172</td>\n",
       "      <td>1</td>\n",
       "      <td>292352</td>\n",
       "      <td>NaN</td>\n",
       "    </tr>\n",
       "    <tr>\n",
       "      <th>2756090</th>\n",
       "      <td>1438399811281</td>\n",
       "      <td>804736</td>\n",
       "      <td>2</td>\n",
       "      <td>346534</td>\n",
       "      <td>NaN</td>\n",
       "    </tr>\n",
       "    <tr>\n",
       "      <th>2756091</th>\n",
       "      <td>1438398087349</td>\n",
       "      <td>126458</td>\n",
       "      <td>1</td>\n",
       "      <td>439758</td>\n",
       "      <td>NaN</td>\n",
       "    </tr>\n",
       "    <tr>\n",
       "      <th>2756092</th>\n",
       "      <td>1438398473572</td>\n",
       "      <td>709520</td>\n",
       "      <td>1</td>\n",
       "      <td>104512</td>\n",
       "      <td>NaN</td>\n",
       "    </tr>\n",
       "    <tr>\n",
       "      <th>2756093</th>\n",
       "      <td>1438400498250</td>\n",
       "      <td>226214</td>\n",
       "      <td>1</td>\n",
       "      <td>190530</td>\n",
       "      <td>NaN</td>\n",
       "    </tr>\n",
       "    <tr>\n",
       "      <th>2756094</th>\n",
       "      <td>1438399289446</td>\n",
       "      <td>701750</td>\n",
       "      <td>1</td>\n",
       "      <td>296172</td>\n",
       "      <td>NaN</td>\n",
       "    </tr>\n",
       "    <tr>\n",
       "      <th>2756095</th>\n",
       "      <td>1438400574346</td>\n",
       "      <td>289041</td>\n",
       "      <td>1</td>\n",
       "      <td>156947</td>\n",
       "      <td>NaN</td>\n",
       "    </tr>\n",
       "    <tr>\n",
       "      <th>2756096</th>\n",
       "      <td>1438398785939</td>\n",
       "      <td>591435</td>\n",
       "      <td>1</td>\n",
       "      <td>261427</td>\n",
       "      <td>NaN</td>\n",
       "    </tr>\n",
       "    <tr>\n",
       "      <th>2756097</th>\n",
       "      <td>1438399813142</td>\n",
       "      <td>762376</td>\n",
       "      <td>1</td>\n",
       "      <td>115946</td>\n",
       "      <td>NaN</td>\n",
       "    </tr>\n",
       "    <tr>\n",
       "      <th>2756098</th>\n",
       "      <td>1438397820527</td>\n",
       "      <td>1251746</td>\n",
       "      <td>1</td>\n",
       "      <td>78144</td>\n",
       "      <td>NaN</td>\n",
       "    </tr>\n",
       "    <tr>\n",
       "      <th>2756099</th>\n",
       "      <td>1438398530703</td>\n",
       "      <td>1184451</td>\n",
       "      <td>1</td>\n",
       "      <td>283392</td>\n",
       "      <td>NaN</td>\n",
       "    </tr>\n",
       "    <tr>\n",
       "      <th>2756100</th>\n",
       "      <td>1438400163914</td>\n",
       "      <td>199536</td>\n",
       "      <td>1</td>\n",
       "      <td>152913</td>\n",
       "      <td>NaN</td>\n",
       "    </tr>\n",
       "  </tbody>\n",
       "</table>\n",
       "<p>2756101 rows × 5 columns</p>\n",
       "</div>"
      ],
      "text/plain": [
       "             timestamp  visitorid event  itemid  transactionid\n",
       "0        1433221332117     257597     1  355908            NaN\n",
       "1        1433224214164     992329     1  248676            NaN\n",
       "2        1433221999827     111016     1  318965            NaN\n",
       "3        1433221955914     483717     1  253185            NaN\n",
       "4        1433221337106     951259     1  367447            NaN\n",
       "5        1433224086234     972639     1   22556            NaN\n",
       "6        1433221923240     810725     1  443030            NaN\n",
       "7        1433223291897     794181     1  439202            NaN\n",
       "8        1433220899221     824915     1  428805            NaN\n",
       "9        1433221204592     339335     1   82389            NaN\n",
       "10       1433222162373     176446     1   10572            NaN\n",
       "11       1433221701252     929206     1  410676            NaN\n",
       "12       1433224229496      15795     1   44872            NaN\n",
       "13       1433223697356     598426     1  156489            NaN\n",
       "14       1433224078165     223343     1  402625            NaN\n",
       "15       1433222531378      57036     1  334662            NaN\n",
       "16       1433223239808    1377281     1  251467            NaN\n",
       "17       1433223236124     287857     2    5206            NaN\n",
       "18       1433224244282    1370216     1  176721            NaN\n",
       "19       1433221078505     158090     2   10572            NaN\n",
       "20       1433224070841    1398644     1  135256            NaN\n",
       "21       1433224252461     653756     1  132316            NaN\n",
       "22       1433221274809    1213673     1  343861            NaN\n",
       "23       1433221275206     864246     1   36642            NaN\n",
       "24       1433223203944     125625     1   17655            NaN\n",
       "25       1433224683817     608100     1  187722            NaN\n",
       "26       1433221373311     781127     1   21989            NaN\n",
       "27       1433222147345    1076270     1  262799            NaN\n",
       "28       1433224554732     453474     1  250696            NaN\n",
       "29       1433221377547    1153198     1  388242            NaN\n",
       "...                ...        ...   ...     ...            ...\n",
       "2756071  1438400950177     916871     1  233369            NaN\n",
       "2756072  1438399256437     358086     1  187946            NaN\n",
       "2756073  1438401820781    1359054     1  265810            NaN\n",
       "2756074  1438400994744     144106     2  141241            NaN\n",
       "2756075  1438399016390    1202112     1  274206            NaN\n",
       "2756076  1438400304353     333944     1  235771            NaN\n",
       "2756077  1438400580953    1217709     1  303704            NaN\n",
       "2756078  1438399807937     804736     2  447661            NaN\n",
       "2756079  1438400010258     639019     1   47138            NaN\n",
       "2756080  1438397861378     657600     1  110945            NaN\n",
       "2756081  1438400133197     668517     1  120164            NaN\n",
       "2756082  1438396874575     148010     1   58194            NaN\n",
       "2756083  1438401803214    1392454     1    4148            NaN\n",
       "2756084  1438398750926     865207     1  454768            NaN\n",
       "2756085  1438398987844     392351     1  400896            NaN\n",
       "2756086  1438398088257     887677     1  415160            NaN\n",
       "2756087  1438397455397     611270     1  432925            NaN\n",
       "2756088  1438400147472     831605     1   57810            NaN\n",
       "2756089  1438397131078     285172     1  292352            NaN\n",
       "2756090  1438399811281     804736     2  346534            NaN\n",
       "2756091  1438398087349     126458     1  439758            NaN\n",
       "2756092  1438398473572     709520     1  104512            NaN\n",
       "2756093  1438400498250     226214     1  190530            NaN\n",
       "2756094  1438399289446     701750     1  296172            NaN\n",
       "2756095  1438400574346     289041     1  156947            NaN\n",
       "2756096  1438398785939     591435     1  261427            NaN\n",
       "2756097  1438399813142     762376     1  115946            NaN\n",
       "2756098  1438397820527    1251746     1   78144            NaN\n",
       "2756099  1438398530703    1184451     1  283392            NaN\n",
       "2756100  1438400163914     199536     1  152913            NaN\n",
       "\n",
       "[2756101 rows x 5 columns]"
      ]
     },
     "execution_count": 11,
     "metadata": {},
     "output_type": "execute_result"
    }
   ],
   "source": [
    "event_df"
   ]
  },
  {
   "cell_type": "code",
   "execution_count": 12,
   "metadata": {},
   "outputs": [],
   "source": [
    "#for customer in customer_purchased[:5]:\n",
    " #   path = event_df[event_df.visitorid == customer].sort_values('timestamp').event.tolist()\n",
    "  #  print(customer)\n",
    "    #strng = \"->\".join(path)\n",
    "   # print(path)\n",
    "    #print(\" \")"
   ]
  },
  {
   "cell_type": "code",
   "execution_count": 13,
   "metadata": {},
   "outputs": [
    {
     "name": "stdout",
     "output_type": "stream",
     "text": [
      "Total number of customers/visitors : 1407580\n",
      "Total number of customers/visitors who ended up purchasing : 11719\n",
      "Total number of customers/visitors who just browsed : 1395861\n"
     ]
    }
   ],
   "source": [
    "print('Total number of customers/visitors :',len(all_customers))\n",
    "print('Total number of customers/visitors who ended up purchasing :',len(customer_purchased))\n",
    "print('Total number of customers/visitors who just browsed :',len(customer_browsed))"
   ]
  },
  {
   "cell_type": "markdown",
   "metadata": {},
   "source": [
    "Beacuse number of customers who just browsed heavily outnumbers those who end up purchasing, we will take a random sample out of our all_customers data, equal to the number of customers who ended up purchasing ."
   ]
  },
  {
   "cell_type": "markdown",
   "metadata": {},
   "source": [
    "Also, we will only include those instances for our training whose journey is atleast 5 events long:"
   ]
  },
  {
   "cell_type": "code",
   "execution_count": 14,
   "metadata": {},
   "outputs": [],
   "source": [
    "customer_purchased_refined = []\n",
    "for customer in customer_purchased:\n",
    "    path = event_df[event_df.visitorid == customer].sort_values('timestamp').event.tolist()\n",
    "    if len(path) >= 5:\n",
    "        customer_purchased_refined.append(customer)"
   ]
  },
  {
   "cell_type": "code",
   "execution_count": 15,
   "metadata": {},
   "outputs": [],
   "source": [
    "customer_browsed_refined = []\n",
    "for customer in customer_browsed:\n",
    "    if  len(customer_browsed_refined) == 3*len(customer_purchased_refined):\n",
    "        break;\n",
    "    path = event_df[event_df.visitorid == customer].sort_values('timestamp').event.tolist()\n",
    "    if len(path) >= 5:\n",
    "        customer_browsed_refined.append(customer)"
   ]
  },
  {
   "cell_type": "code",
   "execution_count": 16,
   "metadata": {},
   "outputs": [
    {
     "name": "stdout",
     "output_type": "stream",
     "text": [
      "1395861 22830\n",
      "11719 7610\n"
     ]
    }
   ],
   "source": [
    "print(len(customer_browsed), len(customer_browsed_refined))\n",
    "print(len(customer_purchased), len(customer_purchased_refined))"
   ]
  },
  {
   "cell_type": "markdown",
   "metadata": {},
   "source": [
    "The data that we had was highly imbalanced, understandably so, because only a handful of visitors do end up buying in the end. So, for our training we will choose customers from those who just ended up browsing, equal in number to those who ended up buying."
   ]
  },
  {
   "cell_type": "code",
   "execution_count": 21,
   "metadata": {},
   "outputs": [],
   "source": [
    "random_browsed = random.sample(customer_browsed,len(customer_purchased_refined))\n",
    "sample = list(customer_purchased_refined) + list(random_browsed)"
   ]
  },
  {
   "cell_type": "code",
   "execution_count": 44,
   "metadata": {},
   "outputs": [],
   "source": [
    "X = np.empty((len(sample),),dtype=object)\n",
    "y = np.zeros((len(sample),), dtype=int)"
   ]
  },
  {
   "cell_type": "code",
   "execution_count": 45,
   "metadata": {},
   "outputs": [],
   "source": [
    "i=0\n",
    "for customer in sample:\n",
    "    path = event_df[event_df.visitorid == customer].sort_values('timestamp').event.tolist()\n",
    "    if '3' in path:\n",
    "        path = list(filter(lambda a: a != '3', path))\n",
    "        path = [int(x) for x in path]\n",
    "        X[i] = path\n",
    "        y[i] = 1\n",
    "    else:\n",
    "        path = [int(x) for x in path]\n",
    "        X[i] = path\n",
    "    i+=1"
   ]
  },
  {
   "cell_type": "code",
   "execution_count": 46,
   "metadata": {},
   "outputs": [],
   "source": [
    "from sklearn.model_selection import train_test_split\n",
    "x_train, x_test, y_train, y_test = train_test_split(X, y, test_size=0.3)\n",
    "x_test, x_val, y_test, y_val = train_test_split(x_test, y_test, test_size=0.5)"
   ]
  },
  {
   "cell_type": "markdown",
   "metadata": {},
   "source": [
    "### LSTM"
   ]
  },
  {
   "cell_type": "code",
   "execution_count": 68,
   "metadata": {},
   "outputs": [],
   "source": [
    "from keras.datasets import imdb\n",
    "from keras.models import Sequential\n",
    "from keras.layers import Dense\n",
    "from keras.layers import LSTM\n",
    "from keras.layers.embeddings import Embedding\n",
    "from keras.preprocessing import sequence"
   ]
  },
  {
   "cell_type": "code",
   "execution_count": 69,
   "metadata": {},
   "outputs": [],
   "source": [
    "max_click_length = 30\n",
    "X_train = sequence.pad_sequences(x_train, maxlen=max_click_length)\n",
    "X_test = sequence.pad_sequences(x_test, maxlen=max_click_length)\n",
    "X_val = sequence.pad_sequences(x_val, maxlen=max_click_length)"
   ]
  },
  {
   "cell_type": "code",
   "execution_count": 67,
   "metadata": {},
   "outputs": [
    {
     "data": {
      "text/plain": [
       "array([0, 0, 0, 0, 0, 0, 0, 0, 0, 0, 0, 0, 0, 0, 0, 0, 0, 0, 0, 0, 0, 0,\n",
       "       0, 0, 1, 1, 1, 1, 2, 1])"
      ]
     },
     "execution_count": 67,
     "metadata": {},
     "output_type": "execute_result"
    }
   ],
   "source": [
    "X_train[0]"
   ]
  },
  {
   "cell_type": "code",
   "execution_count": 52,
   "metadata": {},
   "outputs": [
    {
     "name": "stdout",
     "output_type": "stream",
     "text": [
      "_________________________________________________________________\n",
      "Layer (type)                 Output Shape              Param #   \n",
      "=================================================================\n",
      "embedding_4 (Embedding)      (None, 30, 32)            96        \n",
      "_________________________________________________________________\n",
      "lstm_4 (LSTM)                (None, 100)               53200     \n",
      "_________________________________________________________________\n",
      "dense_4 (Dense)              (None, 1)                 101       \n",
      "=================================================================\n",
      "Total params: 53,397\n",
      "Trainable params: 53,397\n",
      "Non-trainable params: 0\n",
      "_________________________________________________________________\n",
      "None\n",
      "Train on 10654 samples, validate on 2283 samples\n",
      "Epoch 1/2\n",
      "10654/10654 [==============================] - 12s 1ms/step - loss: 0.2532 - acc: 0.9129 - val_loss: 0.1040 - val_acc: 0.9720\n",
      "Epoch 2/2\n",
      "10654/10654 [==============================] - 9s 837us/step - loss: 0.0990 - acc: 0.9630 - val_loss: 0.0802 - val_acc: 0.9680\n"
     ]
    },
    {
     "data": {
      "text/plain": [
       "<keras.callbacks.History at 0x20805fe6748>"
      ]
     },
     "execution_count": 52,
     "metadata": {},
     "output_type": "execute_result"
    }
   ],
   "source": [
    "embedding_vecor_length = 32\n",
    "model = Sequential()\n",
    "model.add(Embedding(3, embedding_vecor_length, input_length=max_click_length))\n",
    "model.add(LSTM(100))\n",
    "model.add(Dense(1, activation='sigmoid'))\n",
    "model.compile(loss='binary_crossentropy', optimizer='adam', metrics=['accuracy'])\n",
    "print(model.summary())\n",
    "model.fit(X_train, y_train, validation_data=(X_val, y_val), epochs=2, batch_size=64)"
   ]
  },
  {
   "cell_type": "code",
   "execution_count": 53,
   "metadata": {},
   "outputs": [
    {
     "name": "stdout",
     "output_type": "stream",
     "text": [
      "Accuracy: 96.45%\n"
     ]
    }
   ],
   "source": [
    "scores = model.evaluate(X_test, y_test, verbose=0)\n",
    "print(\"Accuracy: %.2f%%\" % (scores[1]*100))"
   ]
  },
  {
   "cell_type": "code",
   "execution_count": 54,
   "metadata": {},
   "outputs": [],
   "source": [
    "x_test_5 = np.empty((len(x_test),),dtype=object)\n",
    "\n",
    "i = 0\n",
    "for i in range(0,len(x_test)):\n",
    "    x_test_5[i] = x_test[i][:5]\n",
    "\n",
    "X_test_5 = sequence.pad_sequences(x_test_5, maxlen=max_click_length)\n",
    "\n",
    "scores = model.evaluate(X_test_5, y_test, verbose=0)\n",
    "print(\"Accuracy: %.2f%%\" % (scores[1]*100))"
   ]
  },
  {
   "cell_type": "code",
   "execution_count": 56,
   "metadata": {},
   "outputs": [],
   "source": [
    "x_test_10 = np.empty((len(x_test),),dtype=object)\n",
    "\n",
    "i = 0\n",
    "for i in range(0,len(x_test)):\n",
    "    x_test_10[i] = x_test[i][:10]\n",
    "\n",
    "X_test_10 = sequence.pad_sequences(x_test_10 ,maxlen=max_click_length)"
   ]
  },
  {
   "cell_type": "code",
   "execution_count": 57,
   "metadata": {},
   "outputs": [
    {
     "name": "stdout",
     "output_type": "stream",
     "text": [
      "Accuracy: 90.85%\n"
     ]
    }
   ],
   "source": [
    "scores = model.evaluate(X_test_10, y_test, verbose=0)\n",
    "print(\"Accuracy: %.2f%%\" % (scores[1]*100))"
   ]
  },
  {
   "cell_type": "code",
   "execution_count": 58,
   "metadata": {},
   "outputs": [],
   "source": [
    "x_test_15 = np.empty((len(x_test),),dtype=object)\n",
    "\n",
    "i = 0\n",
    "for i in range(0,len(x_test)):\n",
    "    x_test_15[i] = x_test[i][:15]\n",
    "\n",
    "X_test_15 = sequence.pad_sequences(x_test_15, maxlen=max_click_length)"
   ]
  },
  {
   "cell_type": "code",
   "execution_count": 59,
   "metadata": {},
   "outputs": [
    {
     "name": "stdout",
     "output_type": "stream",
     "text": [
      "Accuracy: 96.45%\n"
     ]
    }
   ],
   "source": [
    "scores = model.evaluate(X_test_15, y_test, verbose=0)\n",
    "print(\"Accuracy: %.2f%%\" % (scores[1]*100))"
   ]
  },
  {
   "cell_type": "markdown",
   "metadata": {},
   "source": [
    "##### Second Approach"
   ]
  },
  {
   "cell_type": "markdown",
   "metadata": {},
   "source": [
    "In last approach, we saw an accuracy of 96%. In our second approach, we discard and do not use the \"addtobasket\" event that is present in the Retail Rocket dataset. Since it is so closely correlated with the buy event (users add to a basket before purchasing that basket), it renders the buyer prediction task trivial and an AUC of 0.97 is easily achievable for both our RNN and GBM models."
   ]
  },
  {
   "cell_type": "code",
   "execution_count": 72,
   "metadata": {},
   "outputs": [
    {
     "data": {
      "text/html": [
       "<div>\n",
       "<style scoped>\n",
       "    .dataframe tbody tr th:only-of-type {\n",
       "        vertical-align: middle;\n",
       "    }\n",
       "\n",
       "    .dataframe tbody tr th {\n",
       "        vertical-align: top;\n",
       "    }\n",
       "\n",
       "    .dataframe thead th {\n",
       "        text-align: right;\n",
       "    }\n",
       "</style>\n",
       "<table border=\"1\" class=\"dataframe\">\n",
       "  <thead>\n",
       "    <tr style=\"text-align: right;\">\n",
       "      <th></th>\n",
       "      <th>timestamp</th>\n",
       "      <th>visitorid</th>\n",
       "      <th>event</th>\n",
       "      <th>itemid</th>\n",
       "      <th>transactionid</th>\n",
       "    </tr>\n",
       "  </thead>\n",
       "  <tbody>\n",
       "    <tr>\n",
       "      <th>0</th>\n",
       "      <td>1433221332117</td>\n",
       "      <td>257597</td>\n",
       "      <td>view</td>\n",
       "      <td>355908</td>\n",
       "      <td>NaN</td>\n",
       "    </tr>\n",
       "    <tr>\n",
       "      <th>1</th>\n",
       "      <td>1433224214164</td>\n",
       "      <td>992329</td>\n",
       "      <td>view</td>\n",
       "      <td>248676</td>\n",
       "      <td>NaN</td>\n",
       "    </tr>\n",
       "    <tr>\n",
       "      <th>2</th>\n",
       "      <td>1433221999827</td>\n",
       "      <td>111016</td>\n",
       "      <td>view</td>\n",
       "      <td>318965</td>\n",
       "      <td>NaN</td>\n",
       "    </tr>\n",
       "    <tr>\n",
       "      <th>3</th>\n",
       "      <td>1433221955914</td>\n",
       "      <td>483717</td>\n",
       "      <td>view</td>\n",
       "      <td>253185</td>\n",
       "      <td>NaN</td>\n",
       "    </tr>\n",
       "    <tr>\n",
       "      <th>4</th>\n",
       "      <td>1433221337106</td>\n",
       "      <td>951259</td>\n",
       "      <td>view</td>\n",
       "      <td>367447</td>\n",
       "      <td>NaN</td>\n",
       "    </tr>\n",
       "  </tbody>\n",
       "</table>\n",
       "</div>"
      ],
      "text/plain": [
       "       timestamp  visitorid event  itemid  transactionid\n",
       "0  1433221332117     257597  view  355908            NaN\n",
       "1  1433224214164     992329  view  248676            NaN\n",
       "2  1433221999827     111016  view  318965            NaN\n",
       "3  1433221955914     483717  view  253185            NaN\n",
       "4  1433221337106     951259  view  367447            NaN"
      ]
     },
     "execution_count": 72,
     "metadata": {},
     "output_type": "execute_result"
    }
   ],
   "source": [
    "event_df.head()"
   ]
  },
  {
   "cell_type": "code",
   "execution_count": 159,
   "metadata": {},
   "outputs": [],
   "source": [
    "event_df_reformed = event_df[['timestamp','visitorid','event','itemid']]"
   ]
  },
  {
   "cell_type": "code",
   "execution_count": 160,
   "metadata": {},
   "outputs": [
    {
     "data": {
      "text/html": [
       "<div>\n",
       "<style scoped>\n",
       "    .dataframe tbody tr th:only-of-type {\n",
       "        vertical-align: middle;\n",
       "    }\n",
       "\n",
       "    .dataframe tbody tr th {\n",
       "        vertical-align: top;\n",
       "    }\n",
       "\n",
       "    .dataframe thead th {\n",
       "        text-align: right;\n",
       "    }\n",
       "</style>\n",
       "<table border=\"1\" class=\"dataframe\">\n",
       "  <thead>\n",
       "    <tr style=\"text-align: right;\">\n",
       "      <th></th>\n",
       "      <th>timestamp</th>\n",
       "      <th>visitorid</th>\n",
       "      <th>event</th>\n",
       "      <th>itemid</th>\n",
       "    </tr>\n",
       "  </thead>\n",
       "  <tbody>\n",
       "    <tr>\n",
       "      <th>0</th>\n",
       "      <td>1433221332117</td>\n",
       "      <td>257597</td>\n",
       "      <td>view</td>\n",
       "      <td>355908</td>\n",
       "    </tr>\n",
       "    <tr>\n",
       "      <th>1</th>\n",
       "      <td>1433224214164</td>\n",
       "      <td>992329</td>\n",
       "      <td>view</td>\n",
       "      <td>248676</td>\n",
       "    </tr>\n",
       "    <tr>\n",
       "      <th>2</th>\n",
       "      <td>1433221999827</td>\n",
       "      <td>111016</td>\n",
       "      <td>view</td>\n",
       "      <td>318965</td>\n",
       "    </tr>\n",
       "    <tr>\n",
       "      <th>3</th>\n",
       "      <td>1433221955914</td>\n",
       "      <td>483717</td>\n",
       "      <td>view</td>\n",
       "      <td>253185</td>\n",
       "    </tr>\n",
       "    <tr>\n",
       "      <th>4</th>\n",
       "      <td>1433221337106</td>\n",
       "      <td>951259</td>\n",
       "      <td>view</td>\n",
       "      <td>367447</td>\n",
       "    </tr>\n",
       "  </tbody>\n",
       "</table>\n",
       "</div>"
      ],
      "text/plain": [
       "       timestamp  visitorid event  itemid\n",
       "0  1433221332117     257597  view  355908\n",
       "1  1433224214164     992329  view  248676\n",
       "2  1433221999827     111016  view  318965\n",
       "3  1433221955914     483717  view  253185\n",
       "4  1433221337106     951259  view  367447"
      ]
     },
     "execution_count": 160,
     "metadata": {},
     "output_type": "execute_result"
    }
   ],
   "source": [
    "event_df_reformed.head()"
   ]
  },
  {
   "cell_type": "code",
   "execution_count": 161,
   "metadata": {},
   "outputs": [
    {
     "name": "stderr",
     "output_type": "stream",
     "text": [
      "C:\\Users\\Dell\\Anaconda3\\lib\\site-packages\\pandas\\core\\generic.py:5096: SettingWithCopyWarning: \n",
      "A value is trying to be set on a copy of a slice from a DataFrame.\n",
      "Try using .loc[row_indexer,col_indexer] = value instead\n",
      "\n",
      "See the caveats in the documentation: http://pandas.pydata.org/pandas-docs/stable/indexing.html#indexing-view-versus-copy\n",
      "  self[name] = value\n"
     ]
    }
   ],
   "source": [
    "event_df_reformed.event = event_df_reformed.event.map({'view' :'1', 'addtocart':'2', 'transaction':'3'})"
   ]
  },
  {
   "cell_type": "markdown",
   "metadata": {},
   "source": [
    "In particular we discard and do not use the additional \"addtobasket\" event that is present in the dataset. Since it is so closely correlated with the buy event (users add to a basket before purchasing that basket), it renders the buyer prediction task trivial and an AUC of 0.97 is easily achievable for both our RNN and GBM models."
   ]
  },
  {
   "cell_type": "code",
   "execution_count": 162,
   "metadata": {},
   "outputs": [],
   "source": [
    "event_df_reformed = event_df_reformed[event_df_reformed.event!= 'addtocart']"
   ]
  },
  {
   "cell_type": "code",
   "execution_count": 163,
   "metadata": {},
   "outputs": [],
   "source": [
    "event_df_reformed['item_id'] = event_df_reformed['itemid'].astype('category').cat.codes\n",
    "\n",
    "item_lookup = event_df_reformed[['item_id', 'itemid']].drop_duplicates()"
   ]
  },
  {
   "cell_type": "code",
   "execution_count": 164,
   "metadata": {},
   "outputs": [],
   "source": [
    "event_df_reformed.drop(['itemid'],axis=1,inplace=True)"
   ]
  },
  {
   "cell_type": "code",
   "execution_count": 134,
   "metadata": {},
   "outputs": [
    {
     "data": {
      "text/html": [
       "<div>\n",
       "<style scoped>\n",
       "    .dataframe tbody tr th:only-of-type {\n",
       "        vertical-align: middle;\n",
       "    }\n",
       "\n",
       "    .dataframe tbody tr th {\n",
       "        vertical-align: top;\n",
       "    }\n",
       "\n",
       "    .dataframe thead th {\n",
       "        text-align: right;\n",
       "    }\n",
       "</style>\n",
       "<table border=\"1\" class=\"dataframe\">\n",
       "  <thead>\n",
       "    <tr style=\"text-align: right;\">\n",
       "      <th></th>\n",
       "      <th>item_id</th>\n",
       "      <th>itemid</th>\n",
       "    </tr>\n",
       "  </thead>\n",
       "  <tbody>\n",
       "    <tr>\n",
       "      <th>0</th>\n",
       "      <td>179162</td>\n",
       "      <td>355908</td>\n",
       "    </tr>\n",
       "    <tr>\n",
       "      <th>1</th>\n",
       "      <td>125138</td>\n",
       "      <td>248676</td>\n",
       "    </tr>\n",
       "    <tr>\n",
       "      <th>2</th>\n",
       "      <td>160499</td>\n",
       "      <td>318965</td>\n",
       "    </tr>\n",
       "    <tr>\n",
       "      <th>3</th>\n",
       "      <td>127437</td>\n",
       "      <td>253185</td>\n",
       "    </tr>\n",
       "    <tr>\n",
       "      <th>4</th>\n",
       "      <td>184985</td>\n",
       "      <td>367447</td>\n",
       "    </tr>\n",
       "  </tbody>\n",
       "</table>\n",
       "</div>"
      ],
      "text/plain": [
       "   item_id  itemid\n",
       "0   179162  355908\n",
       "1   125138  248676\n",
       "2   160499  318965\n",
       "3   127437  253185\n",
       "4   184985  367447"
      ]
     },
     "execution_count": 134,
     "metadata": {},
     "output_type": "execute_result"
    }
   ],
   "source": [
    "item_lookup.head()"
   ]
  },
  {
   "cell_type": "code",
   "execution_count": 148,
   "metadata": {},
   "outputs": [],
   "source": [
    "random_browsed = random.sample(customer_browsed,len(customer_purchased))\n",
    "sample = list(customer_purchased) + list(random_browsed)"
   ]
  },
  {
   "cell_type": "code",
   "execution_count": 149,
   "metadata": {},
   "outputs": [
    {
     "data": {
      "text/plain": [
       "234844"
      ]
     },
     "execution_count": 149,
     "metadata": {},
     "output_type": "execute_result"
    }
   ],
   "source": [
    "item_lookup.shape[0]"
   ]
  },
  {
   "cell_type": "code",
   "execution_count": 150,
   "metadata": {},
   "outputs": [],
   "source": [
    "X = np.empty((len(sample),),dtype=object)\n",
    "y = np.zeros((len(sample),), dtype=int)"
   ]
  },
  {
   "cell_type": "code",
   "execution_count": 151,
   "metadata": {},
   "outputs": [],
   "source": [
    "i=0\n",
    "for customer in sample:\n",
    "    path = event_df_reformed[event_df_reformed.visitorid == customer].sort_values('timestamp').event.tolist()\n",
    "    item = event_df_reformed[event_df_reformed.visitorid == customer].sort_values('timestamp').item_id.tolist()\n",
    "    if '3' in path:\n",
    "        item_new = []\n",
    "        for a,b in zip(path,item):\n",
    "            if a!='3':\n",
    "                item_new.append(b)\n",
    "        item = [int(x) for x in item_new] \n",
    "        X[i] = item\n",
    "        y[i] = 1\n",
    "    else:\n",
    "        item = [int(x) for x in item] \n",
    "        X[i] = item\n",
    "    i+=1"
   ]
  },
  {
   "cell_type": "code",
   "execution_count": 152,
   "metadata": {},
   "outputs": [],
   "source": [
    "x_train, x_test, y_train, y_test = train_test_split(X, y, test_size=0.3)\n",
    "x_test, x_val, y_test, y_val = train_test_split(x_test, y_test, test_size=0.5)"
   ]
  },
  {
   "cell_type": "code",
   "execution_count": 153,
   "metadata": {},
   "outputs": [],
   "source": [
    "max_click_length = 30\n",
    "X_train = sequence.pad_sequences(x_train, maxlen=max_click_length)\n",
    "X_test = sequence.pad_sequences(x_test, maxlen=max_click_length)\n",
    "X_val = sequence.pad_sequences(x_val, maxlen=max_click_length)"
   ]
  },
  {
   "cell_type": "code",
   "execution_count": 154,
   "metadata": {},
   "outputs": [
    {
     "name": "stdout",
     "output_type": "stream",
     "text": [
      "_________________________________________________________________\n",
      "Layer (type)                 Output Shape              Param #   \n",
      "=================================================================\n",
      "embedding_10 (Embedding)     (None, 30, 32)            7515008   \n",
      "_________________________________________________________________\n",
      "lstm_10 (LSTM)               (None, 100)               53200     \n",
      "_________________________________________________________________\n",
      "dense_10 (Dense)             (None, 1)                 101       \n",
      "=================================================================\n",
      "Total params: 7,568,309\n",
      "Trainable params: 7,568,309\n",
      "Non-trainable params: 0\n",
      "_________________________________________________________________\n",
      "None\n",
      "Train on 16406 samples, validate on 3516 samples\n",
      "Epoch 1/2\n",
      "16406/16406 [==============================] - 89s 5ms/step - loss: 0.5492 - acc: 0.7289 - val_loss: 0.5153 - val_acc: 0.7722\n",
      "Epoch 2/2\n",
      "16406/16406 [==============================] - 78s 5ms/step - loss: 0.3860 - acc: 0.8348 - val_loss: 0.5753 - val_acc: 0.7602\n"
     ]
    },
    {
     "data": {
      "text/plain": [
       "<keras.callbacks.History at 0x208519ab9b0>"
      ]
     },
     "execution_count": 154,
     "metadata": {},
     "output_type": "execute_result"
    }
   ],
   "source": [
    "embedding_vecor_length = 32\n",
    "model = Sequential()\n",
    "model.add(Embedding(234844, embedding_vecor_length, input_length=max_click_length))\n",
    "model.add(LSTM(100))\n",
    "model.add(Dense(1, activation='sigmoid'))\n",
    "model.compile(loss='binary_crossentropy', optimizer='adam', metrics=['accuracy'])\n",
    "print(model.summary())\n",
    "model.fit(X_train, y_train, validation_data=(X_val, y_val), epochs=2, batch_size=64)"
   ]
  },
  {
   "cell_type": "code",
   "execution_count": 155,
   "metadata": {},
   "outputs": [
    {
     "name": "stdout",
     "output_type": "stream",
     "text": [
      "Accuracy: 74.74%\n"
     ]
    }
   ],
   "source": [
    "scores = model.evaluate(X_test, y_test, verbose=0)\n",
    "print(\"Accuracy: %.2f%%\" % (scores[1]*100))"
   ]
  },
  {
   "cell_type": "code",
   "execution_count": 156,
   "metadata": {},
   "outputs": [
    {
     "name": "stdout",
     "output_type": "stream",
     "text": [
      "Accuracy: 74.20%\n"
     ]
    }
   ],
   "source": [
    "x_test_5 = np.empty((len(x_test),),dtype=object)\n",
    "\n",
    "i = 0\n",
    "for i in range(0,len(x_test)):\n",
    "    x_test_5[i] = x_test[i][:5]\n",
    "\n",
    "X_test_5 = sequence.pad_sequences(x_test_5, maxlen=max_click_length)\n",
    "\n",
    "scores = model.evaluate(X_test_5, y_test, verbose=0)\n",
    "print(\"Accuracy: %.2f%%\" % (scores[1]*100))"
   ]
  },
  {
   "cell_type": "code",
   "execution_count": 158,
   "metadata": {},
   "outputs": [
    {
     "name": "stdout",
     "output_type": "stream",
     "text": [
      "Accuracy: 74.49%\n"
     ]
    }
   ],
   "source": [
    "x_test_10 = np.empty((len(x_test),),dtype=object)\n",
    "\n",
    "i = 0\n",
    "for i in range(0,len(x_test)):\n",
    "    x_test_10[i] = x_test[i][:10]\n",
    "\n",
    "X_test_10 = sequence.pad_sequences(x_test_10, maxlen=max_click_length)\n",
    "\n",
    "scores = model.evaluate(X_test_10, y_test, verbose=0)\n",
    "print(\"Accuracy: %.2f%%\" % (scores[1]*100))"
   ]
  }
 ],
 "metadata": {
  "kernelspec": {
   "display_name": "Python 3",
   "language": "python",
   "name": "python3"
  },
  "language_info": {
   "codemirror_mode": {
    "name": "ipython",
    "version": 3
   },
   "file_extension": ".py",
   "mimetype": "text/x-python",
   "name": "python",
   "nbconvert_exporter": "python",
   "pygments_lexer": "ipython3",
   "version": "3.7.3"
  }
 },
 "nbformat": 4,
 "nbformat_minor": 2
}
